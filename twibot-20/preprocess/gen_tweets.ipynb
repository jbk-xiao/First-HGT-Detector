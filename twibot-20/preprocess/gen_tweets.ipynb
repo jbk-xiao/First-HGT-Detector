{
 "cells": [
  {
   "cell_type": "code",
   "execution_count": 1,
   "outputs": [],
   "source": [
    "import pandas as pd\n",
    "import torch\n",
    "from tqdm.notebook import tqdm\n",
    "import ijson\n",
    "from transformers import pipeline"
   ],
   "metadata": {
    "collapsed": false
   }
  },
  {
   "cell_type": "code",
   "execution_count": 2,
   "outputs": [],
   "source": [
    "datasets_root = r\"E:\\social-bot-data\\datasets\\Twibot-20\"\n",
    "tmp_files_root = r\"E:\\social-bot-data\\code\\First-HGT-Detector\\twibot-20\\preprocess\\tmp-files\""
   ],
   "metadata": {
    "collapsed": false
   }
  },
  {
   "cell_type": "code",
   "execution_count": 3,
   "outputs": [],
   "source": [
    "node2id_list = pd.read_csv(rf\"{datasets_root}\\node2id.csv\", dtype={\"node_id\": str,\"num_id\": int}) # tweets: 1-33488192, users: 33488193-33713010\n",
    "node2id = {}\n",
    "for row in node2id_list.iterrows():\n",
    "    node2id[row[1][\"node_id\"]] = row[1][\"num_id\"]"
   ],
   "metadata": {
    "collapsed": false
   }
  },
  {
   "cell_type": "markdown",
   "source": [
    "### 利用node文件按顺序生成所有推文的向量表示"
   ],
   "metadata": {
    "collapsed": false
   }
  },
  {
   "cell_type": "code",
   "execution_count": 4,
   "outputs": [
    {
     "name": "stderr",
     "output_type": "stream",
     "text": [
      "Some weights of the model checkpoint at roberta-base were not used when initializing RobertaModel: ['lm_head.layer_norm.bias', 'lm_head.bias', 'lm_head.decoder.weight', 'lm_head.dense.bias', 'lm_head.dense.weight', 'lm_head.layer_norm.weight']\n",
      "- This IS expected if you are initializing RobertaModel from the checkpoint of a model trained on another task or with another architecture (e.g. initializing a BertForSequenceClassification model from a BertForPreTraining model).\n",
      "- This IS NOT expected if you are initializing RobertaModel from the checkpoint of a model that you expect to be exactly identical (initializing a BertForSequenceClassification model from a BertForSequenceClassification model).\n"
     ]
    }
   ],
   "source": [
    "tweet_feature_extract = pipeline('feature-extraction', model='roberta-base', tokenizer='roberta-base', device=0, padding=True, truncation=True, max_length=50, add_special_tokens=True)"
   ],
   "metadata": {
    "collapsed": false
   }
  },
  {
   "cell_type": "code",
   "execution_count": 10,
   "outputs": [
    {
     "data": {
      "text/plain": "Reading node.json with each item.: 0it [00:00, ?it/s]",
      "application/vnd.jupyter.widget-view+json": {
       "version_major": 2,
       "version_minor": 0,
       "model_id": "26f74cfc316f4d599d05d9c1bb7f649e"
      }
     },
     "metadata": {},
     "output_type": "display_data"
    }
   ],
   "source": [
    "tweet_tensors_dicts = []\n",
    "with open(rf\"{datasets_root}\\mini-nodes-for-test.json\", 'r', encoding=\"utf-8\") as f:\n",
    "    for record in tqdm(ijson.items(f, \"item\"), desc=\"Reading node.json with each item.\"):\n",
    "        if record.get(\"text\"):\n",
    "            word_tensors = torch.tensor(tweet_feature_extract(record.get(\"text\")))\n",
    "            each_tweet_tensor = torch.zeros(768)\n",
    "            for each_word_tensor in word_tensors[0]:\n",
    "                each_tweet_tensor += each_word_tensor\n",
    "            tweet_tensors_dicts.append({\"node_id\": record.get(\"id\"), \"tweet_tensor\": each_tweet_tensor})\n",
    "\n",
    "tweet_tensors_df = pd.DataFrame(tweet_tensors_dicts)\n",
    "tweet_tensors_df = pd.merge(tweet_tensors_df, node2id_list, on=\"node_id\", how=\"inner\")\n",
    "tweet_tensors_df.sort_values(by=\"num_id\", inplace=True, ascending=True)"
   ],
   "metadata": {
    "collapsed": false
   }
  },
  {
   "cell_type": "code",
   "execution_count": 11,
   "outputs": [],
   "source": [
    "tweet_tensors_df.to_pickle(rf\"{tmp_files_root}\\tweet_tensors_df.pkl\")\n",
    "tweet_tensors = torch.stack(tweet_tensors_df[\"tweet_tensor\"].tolist())\n",
    "torch.save(tweet_tensors, rf\"{tmp_files_root}\\tweet_tensors.pt\")"
   ],
   "metadata": {
    "collapsed": false
   }
  }
 ],
 "metadata": {
  "kernelspec": {
   "display_name": "Python 3",
   "language": "python",
   "name": "python3"
  },
  "language_info": {
   "codemirror_mode": {
    "name": "ipython",
    "version": 2
   },
   "file_extension": ".py",
   "mimetype": "text/x-python",
   "name": "python",
   "nbconvert_exporter": "python",
   "pygments_lexer": "ipython2",
   "version": "2.7.6"
  }
 },
 "nbformat": 4,
 "nbformat_minor": 0
}
