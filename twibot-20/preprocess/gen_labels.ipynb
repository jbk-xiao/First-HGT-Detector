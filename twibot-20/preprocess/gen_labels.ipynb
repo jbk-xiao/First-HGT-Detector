{
 "cells": [
  {
   "cell_type": "code",
   "execution_count": null,
   "outputs": [],
   "source": [
    "import pandas as pd\n",
    "import torch\n",
    "from tqdm.notebook import tqdm\n",
    "from datetime import datetime"
   ],
   "metadata": {
    "collapsed": false
   }
  },
  {
   "cell_type": "code",
   "execution_count": null,
   "outputs": [],
   "source": [
    "datasets_root = r\"E:/social-bot-data/datasets/Twibot-20\"\n",
    "tmp_files_root = r\"./tmp-files\""
   ],
   "metadata": {
    "collapsed": false
   }
  },
  {
   "cell_type": "code",
   "execution_count": null,
   "outputs": [],
   "source": [
    "node2id_list = pd.read_csv(rf\"{datasets_root}/node2id.csv\", dtype={\"node_id\": str,\"num_id\": int}) # tweets: 1-33488192, users: 33488193-33713010"
   ],
   "metadata": {
    "collapsed": false
   }
  },
  {
   "cell_type": "markdown",
   "source": [
    "### 依照顺序为用户节点生成labels张量"
   ],
   "metadata": {
    "collapsed": false
   }
  },
  {
   "cell_type": "code",
   "execution_count": null,
   "outputs": [],
   "source": [
    "print(f\"{datetime.now()}----Reading label.csv...\")\n",
    "label_df = pd.read_csv(rf\"{datasets_root}/label.csv\")\n",
    "label_df = pd.merge(label_df, node2id_list, left_on=\"id\", right_on=\"node_id\", how=\"inner\")\n",
    "label_df.sort_values(\"num_id\", ascending=True, inplace=True)"
   ],
   "metadata": {
    "collapsed": false
   }
  },
  {
   "cell_type": "code",
   "execution_count": null,
   "outputs": [],
   "source": [
    "label_list = []\n",
    "\n",
    "tqdm.pandas(desc=\"generate labels\")\n",
    "label_df[\"label\"].progress_apply(lambda x: label_list.append(0) if x == \"human\" else label_list.append(1))\n",
    "label_tensor = torch.tensor(label_list, dtype=torch.long)\n",
    "torch.save(label_tensor, rf\"{tmp_files_root}/label_tensor.pt\")"
   ],
   "metadata": {
    "collapsed": false
   }
  }
 ],
 "metadata": {
  "kernelspec": {
   "display_name": "Python 3",
   "language": "python",
   "name": "python3"
  },
  "language_info": {
   "codemirror_mode": {
    "name": "ipython",
    "version": 2
   },
   "file_extension": ".py",
   "mimetype": "text/x-python",
   "name": "python",
   "nbconvert_exporter": "python",
   "pygments_lexer": "ipython2",
   "version": "2.7.6"
  }
 },
 "nbformat": 4,
 "nbformat_minor": 0
}
