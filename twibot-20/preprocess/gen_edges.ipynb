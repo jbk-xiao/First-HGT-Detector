{
 "cells": [
  {
   "cell_type": "code",
   "execution_count": 12,
   "outputs": [],
   "source": [
    "import numpy as np\n",
    "import pandas as pd\n",
    "import torch\n",
    "from tqdm.notebook import tqdm"
   ],
   "metadata": {
    "collapsed": false
   }
  },
  {
   "cell_type": "code",
   "execution_count": 2,
   "outputs": [],
   "source": [
    "datasets_root = r\"E:\\social-bot-data\\datasets\\Twibot-20\"\n",
    "tmp_files_root = r\"./tmp-files\""
   ],
   "metadata": {
    "collapsed": false
   }
  },
  {
   "cell_type": "code",
   "execution_count": 3,
   "outputs": [
    {
     "data": {
      "text/plain": "Generate node2id dict.: 0it [00:00, ?it/s]",
      "application/vnd.jupyter.widget-view+json": {
       "version_major": 2,
       "version_minor": 0,
       "model_id": "059b12b1c9dd469aa6db59382b9023f8"
      }
     },
     "metadata": {},
     "output_type": "display_data"
    }
   ],
   "source": [
    "node2id_list = pd.read_csv(rf\"{datasets_root}/node2id.csv\", dtype={\"node_id\": str,\"num_id\": int}) # users: 1-229580 33488193-33713010\n",
    "node2id = {}\n",
    "for row in tqdm(node2id_list.iterrows(), desc=\"Generate node2id dict.\"):\n",
    "    node2id[row[1][\"node_id\"]] = row[1][\"num_id\"]"
   ],
   "metadata": {
    "collapsed": false
   }
  },
  {
   "cell_type": "markdown",
   "source": [
    "### 利用原始edge文件和node文件生成异构图中所有边和边的类型"
   ],
   "metadata": {
    "collapsed": false
   }
  },
  {
   "cell_type": "code",
   "execution_count": 4,
   "outputs": [],
   "source": [
    "edge = pd.read_csv(f\"{datasets_root}\\edge.csv\")\n",
    "\n",
    "follow = edge[edge[\"relation\"] == \"follow\"]\n",
    "friend = edge[edge[\"relation\"] == \"friend\"]\n",
    "post = edge[edge[\"relation\"] == \"post\"]"
   ],
   "metadata": {
    "collapsed": false
   }
  },
  {
   "cell_type": "code",
   "execution_count": 5,
   "outputs": [
    {
     "data": {
      "text/plain": "follow_src:   0%|          | 0/110869 [00:00<?, ?it/s]",
      "application/vnd.jupyter.widget-view+json": {
       "version_major": 2,
       "version_minor": 0,
       "model_id": "e5ecc55e6e71442e81630295a4a2f9a8"
      }
     },
     "metadata": {},
     "output_type": "display_data"
    },
    {
     "data": {
      "text/plain": "follow_dst:   0%|          | 0/110869 [00:00<?, ?it/s]",
      "application/vnd.jupyter.widget-view+json": {
       "version_major": 2,
       "version_minor": 0,
       "model_id": "e4313e91d71d4066b1a89b859c5c9c81"
      }
     },
     "metadata": {},
     "output_type": "display_data"
    },
    {
     "data": {
      "text/plain": "friend_src:   0%|          | 0/117110 [00:00<?, ?it/s]",
      "application/vnd.jupyter.widget-view+json": {
       "version_major": 2,
       "version_minor": 0,
       "model_id": "6b1f1fc0cc3942f4965f1fa5e95d6c49"
      }
     },
     "metadata": {},
     "output_type": "display_data"
    },
    {
     "data": {
      "text/plain": "friend_dst:   0%|          | 0/117110 [00:00<?, ?it/s]",
      "application/vnd.jupyter.widget-view+json": {
       "version_major": 2,
       "version_minor": 0,
       "model_id": "74765e6ea1674085a850a1e1f01098fd"
      }
     },
     "metadata": {},
     "output_type": "display_data"
    },
    {
     "data": {
      "text/plain": "post_src:   0%|          | 0/33488192 [00:00<?, ?it/s]",
      "application/vnd.jupyter.widget-view+json": {
       "version_major": 2,
       "version_minor": 0,
       "model_id": "959653d06ee74f6b889841debb153b2f"
      }
     },
     "metadata": {},
     "output_type": "display_data"
    },
    {
     "data": {
      "text/plain": "post_dst:   0%|          | 0/33488192 [00:00<?, ?it/s]",
      "application/vnd.jupyter.widget-view+json": {
       "version_major": 2,
       "version_minor": 0,
       "model_id": "a3ea4110c390473ebe8a4dc3d20058d6"
      }
     },
     "metadata": {},
     "output_type": "display_data"
    }
   ],
   "source": [
    "follow_src = []\n",
    "follow_dst = []\n",
    "friend_src = []\n",
    "friend_dst = []\n",
    "post_src = []\n",
    "post_dst = []\n",
    "\n",
    "for i in tqdm(follow[\"source_id\"].tolist(), desc=\"follow_src\"):\n",
    "    follow_src.append(node2id[i])\n",
    "for i in tqdm(follow[\"target_id\"].tolist(), desc=\"follow_dst\"):\n",
    "    follow_dst.append(node2id[i])\n",
    "\n",
    "for i in tqdm(friend[\"source_id\"].tolist(), desc=\"friend_src\"):\n",
    "    friend_src.append(node2id[i])\n",
    "for i in tqdm(friend[\"target_id\"].tolist(), desc=\"friend_dst\"):\n",
    "    friend_dst.append(node2id[i])\n",
    "\n",
    "for i in tqdm(post[\"source_id\"].tolist(), desc=\"post_src\"):\n",
    "    post_src.append(node2id[i])\n",
    "for i in tqdm(post[\"target_id\"].tolist(), desc=\"post_dst\"):\n",
    "    post_dst.append(node2id[i] - 229580)"
   ],
   "metadata": {
    "collapsed": false
   }
  },
  {
   "cell_type": "code",
   "execution_count": 8,
   "outputs": [],
   "source": [
    "follow_edge = torch.tensor([follow_src, follow_dst])\n",
    "friend_edge = torch.tensor([friend_src, friend_dst])\n",
    "post_edge = torch.tensor([post_src, post_dst])\n",
    "\n",
    "edge_index = torch.cat((follow_edge, friend_edge, post_edge), dim=1)\n",
    "edge_type = torch.cat((torch.zeros(follow_edge.size(1)), torch.ones(friend_edge.size(1)), 2 * torch.ones(post_edge.size(1))))"
   ],
   "metadata": {
    "collapsed": false
   }
  },
  {
   "cell_type": "code",
   "execution_count": 9,
   "outputs": [],
   "source": [
    "torch.save(edge_index, rf\"{tmp_files_root}\\edge_index.pt\")\n",
    "torch.save(edge_type, rf\"{tmp_files_root}\\edge_type.pt\")"
   ],
   "metadata": {
    "collapsed": false
   }
  },
  {
   "cell_type": "code",
   "execution_count": 8,
   "outputs": [],
   "source": [
    "follow_df = pd.DataFrame(data={\"source_id\": follow_src, \"target_id\": follow_dst})\n",
    "friend_df = pd.DataFrame(data={\"source_id\": friend_src, \"target_id\": friend_dst})\n",
    "post_df = pd.DataFrame(data={\"source_id\": post_src, \"target_id\": post_dst})"
   ],
   "metadata": {
    "collapsed": false
   }
  },
  {
   "cell_type": "code",
   "execution_count": 10,
   "outputs": [],
   "source": [
    "follow_reduced_df = follow_df[((follow_df[\"source_id\"] < 11826) | (follow_df[\"source_id\"] >= 229580)) & ((follow_df[\"target_id\"] < 11826) | (follow_df[\"target_id\"] >= 229580))]\n",
    "follow_reduced_df_contrast = follow_df[(follow_df[\"source_id\"] < 11826) & (follow_df[\"target_id\"] < 11826)]\n",
    "\n",
    "friend_reduced_df = friend_df[((friend_df[\"source_id\"] < 11826) | (friend_df[\"source_id\"] >= 229580)) & ((friend_df[\"target_id\"] < 11826) | (friend_df[\"target_id\"] >= 229580))]\n",
    "friend_reduced_df_contrast = friend_df[(friend_df[\"source_id\"] < 11826) & (friend_df[\"target_id\"] < 11826)]\n",
    "\n",
    "post_reduced_df = post_df[(post_df[\"source_id\"] < 11826) | (post_df[\"source_id\"] >= 229580)]\n",
    "post_reduced_df_contrast = post_df[post_df[\"source_id\"] < 11826]"
   ],
   "metadata": {
    "collapsed": false
   }
  },
  {
   "cell_type": "code",
   "execution_count": 13,
   "outputs": [],
   "source": [
    "follow_tensor = torch.tensor(np.transpose(np.array(follow_reduced_df)))\n",
    "friend_tensor = torch.tensor(np.transpose(np.array(friend_reduced_df)))\n",
    "post_tensor = torch.tensor(np.transpose(np.array(post_reduced_df)))"
   ],
   "metadata": {
    "collapsed": false
   }
  },
  {
   "cell_type": "code",
   "execution_count": 14,
   "outputs": [],
   "source": [
    "torch.save(follow_tensor, rf\"{tmp_files_root}/follow_edge_index.pt\")\n",
    "torch.save(friend_tensor, rf\"{tmp_files_root}/friend_edge_index.pt\")\n",
    "torch.save(post_tensor, rf\"{tmp_files_root}/post_edge_index.pt\")"
   ],
   "metadata": {
    "collapsed": false
   }
  }
 ],
 "metadata": {
  "kernelspec": {
   "display_name": "Python 3",
   "language": "python",
   "name": "python3"
  },
  "language_info": {
   "codemirror_mode": {
    "name": "ipython",
    "version": 2
   },
   "file_extension": ".py",
   "mimetype": "text/x-python",
   "name": "python",
   "nbconvert_exporter": "python",
   "pygments_lexer": "ipython2",
   "version": "2.7.6"
  }
 },
 "nbformat": 4,
 "nbformat_minor": 0
}
