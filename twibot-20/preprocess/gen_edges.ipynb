{
 "cells": [
  {
   "cell_type": "code",
   "execution_count": 8,
   "outputs": [],
   "source": [
    "import pandas as pd\n",
    "import torch\n",
    "from tqdm.notebook import tqdm"
   ],
   "metadata": {
    "collapsed": false
   }
  },
  {
   "cell_type": "code",
   "execution_count": 2,
   "outputs": [],
   "source": [
    "datasets_root = r\"E:\\social-bot-data\\datasets\\Twibot-20\"\n",
    "tmp_files_root = r\"E:\\social-bot-data\\code\\First-HGT-Detector\\twibot-20\\preprocess\\tmp-files\""
   ],
   "metadata": {
    "collapsed": false
   }
  },
  {
   "cell_type": "code",
   "execution_count": null,
   "outputs": [],
   "source": [
    "node2id_list = pd.read_csv(rf\"{datasets_root}\\node2id.csv\", dtype={\"node_id\": str,\"num_id\": int}) # tweets: 1-33488192, users: 33488193-33713010\n",
    "node2id = {}\n",
    "for row in tqdm(node2id_list.iterrows(), desc=\"Generate node2id dict.\"):\n",
    "    node2id[row[1][\"node_id\"]] = row[1][\"num_id\"]"
   ],
   "metadata": {
    "collapsed": false
   }
  },
  {
   "cell_type": "markdown",
   "source": [
    "### 利用原始edge文件和node文件生成异构图中所有边和边的类型"
   ],
   "metadata": {
    "collapsed": false
   }
  },
  {
   "cell_type": "code",
   "execution_count": 3,
   "outputs": [],
   "source": [
    "edge = pd.read_csv(f\"{datasets_root}\\edge.csv\")\n",
    "\n",
    "follow = edge[edge[\"relation\"] == \"follow\"]\n",
    "friend = edge[edge[\"relation\"] == \"friend\"]\n",
    "post = edge[edge[\"relation\"] == \"post\"]"
   ],
   "metadata": {
    "collapsed": false
   }
  },
  {
   "cell_type": "code",
   "execution_count": null,
   "outputs": [],
   "source": [
    "follow_src = []\n",
    "follow_dst = []\n",
    "friend_src = []\n",
    "friend_dst = []\n",
    "post_src = []\n",
    "post_dst = []\n",
    "\n",
    "for i in tqdm(follow[\"source_id\"].tolist(), desc=\"follow_src\"):\n",
    "    follow_src.append(node2id[i])\n",
    "for i in tqdm(follow[\"target_id\"].tolist(), desc=\"follow_dst\"):\n",
    "    follow_dst.append(node2id[i])\n",
    "\n",
    "for i in tqdm(friend[\"source_id\"].tolist(), desc=\"friend_src\"):\n",
    "    friend_src.append(node2id[i])\n",
    "for i in tqdm(friend[\"target_id\"].tolist(), desc=\"friend_dst\"):\n",
    "    friend_dst.append(node2id[i])\n",
    "\n",
    "for i in tqdm(post[\"source_id\"].tolist(), desc=\"post_src\"):\n",
    "    post_src.append(node2id[i])\n",
    "for i in tqdm(post[\"target_id\"].tolist(), desc=\"post_dst\"):\n",
    "    post_dst.append(node2id[i])"
   ],
   "metadata": {
    "collapsed": false,
    "pycharm": {
     "is_executing": true
    }
   }
  },
  {
   "cell_type": "code",
   "execution_count": 10,
   "outputs": [],
   "source": [
    "follow_edge = torch.tensor([follow_src, follow_dst])\n",
    "friend_edge = torch.tensor([friend_src, friend_dst])\n",
    "post_edge = torch.tensor([post_src, post_dst])\n",
    "\n",
    "edge_index = torch.cat((follow_edge, friend_edge, post_edge), dim=1)\n",
    "edge_type = torch.cat((torch.zeros(follow_edge.size(1)), torch.ones(friend_edge.size(1)), 2 * torch.ones(post_edge.size(1))))"
   ],
   "metadata": {
    "collapsed": false
   }
  },
  {
   "cell_type": "code",
   "execution_count": 11,
   "outputs": [],
   "source": [
    "torch.save(edge_index, rf\"{tmp_files_root}\\edge_index.pt\")\n",
    "torch.save(edge_type, rf\"{tmp_files_root}\\edge_type.pt\")"
   ],
   "metadata": {
    "collapsed": false
   }
  }
 ],
 "metadata": {
  "kernelspec": {
   "display_name": "Python 3",
   "language": "python",
   "name": "python3"
  },
  "language_info": {
   "codemirror_mode": {
    "name": "ipython",
    "version": 2
   },
   "file_extension": ".py",
   "mimetype": "text/x-python",
   "name": "python",
   "nbconvert_exporter": "python",
   "pygments_lexer": "ipython2",
   "version": "2.7.6"
  }
 },
 "nbformat": 4,
 "nbformat_minor": 0
}
