{
 "cells": [
  {
   "cell_type": "code",
   "execution_count": 1,
   "outputs": [],
   "source": [
    "import numpy as np\n",
    "import pandas as pd\n",
    "import torch\n",
    "from tqdm.notebook import tqdm"
   ],
   "metadata": {
    "collapsed": false,
    "ExecuteTime": {
     "end_time": "2023-06-08T08:38:49.065145100Z",
     "start_time": "2023-06-08T08:38:47.008146600Z"
    }
   }
  },
  {
   "cell_type": "code",
   "execution_count": 2,
   "outputs": [],
   "source": [
    "datasets_root = r\"E:/social-bot-data/datasets/Twibot-20\"\n",
    "tmp_files_root = r\"./tmp-files\""
   ],
   "metadata": {
    "collapsed": false,
    "ExecuteTime": {
     "end_time": "2023-06-08T08:39:16.070768300Z",
     "start_time": "2023-06-08T08:39:16.063769600Z"
    }
   }
  },
  {
   "cell_type": "code",
   "execution_count": 3,
   "outputs": [
    {
     "data": {
      "text/plain": "Generate node2id dict.: 0it [00:00, ?it/s]",
      "application/vnd.jupyter.widget-view+json": {
       "version_major": 2,
       "version_minor": 0,
       "model_id": "dc70ed18e22d443b859c796cde016e06"
      }
     },
     "metadata": {},
     "output_type": "display_data"
    }
   ],
   "source": [
    "node2id_list = pd.read_csv(rf\"{datasets_root}/node2id.csv\", dtype={\"node_id\": str,\"num_id\": int}) # users: 1-229580 33488193-33713010\n",
    "node2id = {}\n",
    "for row in tqdm(node2id_list.iterrows(), desc=\"Generate node2id dict.\"):\n",
    "    node2id[row[1][\"node_id\"]] = row[1][\"num_id\"]"
   ],
   "metadata": {
    "collapsed": false,
    "ExecuteTime": {
     "end_time": "2023-06-08T09:07:59.707726800Z",
     "start_time": "2023-06-08T08:39:28.971379300Z"
    }
   }
  },
  {
   "cell_type": "markdown",
   "source": [
    "### 利用原始edge文件和node文件生成异构图中所有边和边的类型"
   ],
   "metadata": {
    "collapsed": false
   }
  },
  {
   "cell_type": "code",
   "execution_count": 4,
   "outputs": [],
   "source": [
    "edge = pd.read_csv(f\"{datasets_root}\\edge.csv\")\n",
    "\n",
    "follow = edge[edge[\"relation\"] == \"follow\"]\n",
    "friend = edge[edge[\"relation\"] == \"friend\"]\n",
    "post = edge[edge[\"relation\"] == \"post\"]"
   ],
   "metadata": {
    "collapsed": false,
    "ExecuteTime": {
     "end_time": "2023-06-08T09:13:55.148495Z",
     "start_time": "2023-06-08T09:13:30.136774300Z"
    }
   }
  },
  {
   "cell_type": "code",
   "execution_count": 5,
   "outputs": [
    {
     "data": {
      "text/plain": "follow_src:   0%|          | 0/110869 [00:00<?, ?it/s]",
      "application/vnd.jupyter.widget-view+json": {
       "version_major": 2,
       "version_minor": 0,
       "model_id": "23b1b5336d1e4c8b9a5fc3e39cdf61c6"
      }
     },
     "metadata": {},
     "output_type": "display_data"
    },
    {
     "data": {
      "text/plain": "follow_dst:   0%|          | 0/110869 [00:00<?, ?it/s]",
      "application/vnd.jupyter.widget-view+json": {
       "version_major": 2,
       "version_minor": 0,
       "model_id": "8f7e797d3c994b9890c7fe2dffa25424"
      }
     },
     "metadata": {},
     "output_type": "display_data"
    },
    {
     "data": {
      "text/plain": "friend_src:   0%|          | 0/117110 [00:00<?, ?it/s]",
      "application/vnd.jupyter.widget-view+json": {
       "version_major": 2,
       "version_minor": 0,
       "model_id": "e1c2993f7dbe440ca9abe87e1e605553"
      }
     },
     "metadata": {},
     "output_type": "display_data"
    },
    {
     "data": {
      "text/plain": "friend_dst:   0%|          | 0/117110 [00:00<?, ?it/s]",
      "application/vnd.jupyter.widget-view+json": {
       "version_major": 2,
       "version_minor": 0,
       "model_id": "4eaa1b5a27484a1d8b216399f0f222b3"
      }
     },
     "metadata": {},
     "output_type": "display_data"
    },
    {
     "data": {
      "text/plain": "post_src:   0%|          | 0/33488192 [00:00<?, ?it/s]",
      "application/vnd.jupyter.widget-view+json": {
       "version_major": 2,
       "version_minor": 0,
       "model_id": "a63a98f2a3b843e1afceda5ee3039da2"
      }
     },
     "metadata": {},
     "output_type": "display_data"
    },
    {
     "data": {
      "text/plain": "post_dst:   0%|          | 0/33488192 [00:00<?, ?it/s]",
      "application/vnd.jupyter.widget-view+json": {
       "version_major": 2,
       "version_minor": 0,
       "model_id": "d5c652c09c6145efbed18c4e0c2feb39"
      }
     },
     "metadata": {},
     "output_type": "display_data"
    }
   ],
   "source": [
    "follow_src = []\n",
    "follow_dst = []\n",
    "friend_src = []\n",
    "friend_dst = []\n",
    "post_src = []\n",
    "post_dst = []\n",
    "\n",
    "for i in tqdm(follow[\"source_id\"].tolist(), desc=\"follow_src\"):\n",
    "    follow_src.append(node2id[i])\n",
    "for i in tqdm(follow[\"target_id\"].tolist(), desc=\"follow_dst\"):\n",
    "    follow_dst.append(node2id[i])\n",
    "\n",
    "for i in tqdm(friend[\"source_id\"].tolist(), desc=\"friend_src\"):\n",
    "    friend_src.append(node2id[i])\n",
    "for i in tqdm(friend[\"target_id\"].tolist(), desc=\"friend_dst\"):\n",
    "    friend_dst.append(node2id[i])\n",
    "\n",
    "for i in tqdm(post[\"source_id\"].tolist(), desc=\"post_src\"):\n",
    "    post_src.append(node2id[i])\n",
    "for i in tqdm(post[\"target_id\"].tolist(), desc=\"post_dst\"):\n",
    "    post_dst.append(node2id[i] - 229580)"
   ],
   "metadata": {
    "collapsed": false,
    "ExecuteTime": {
     "end_time": "2023-06-08T09:14:50.495732300Z",
     "start_time": "2023-06-08T09:14:12.752594100Z"
    }
   }
  },
  {
   "cell_type": "code",
   "execution_count": 6,
   "outputs": [],
   "source": [
    "follow_df = pd.DataFrame(data={\"source_id\": follow_src, \"target_id\": follow_dst})\n",
    "friend_df = pd.DataFrame(data={\"source_id\": friend_src, \"target_id\": friend_dst})\n",
    "post_df = pd.DataFrame(data={\"source_id\": post_src, \"target_id\": post_dst})"
   ],
   "metadata": {
    "collapsed": false,
    "ExecuteTime": {
     "end_time": "2023-06-08T09:19:43.524815900Z",
     "start_time": "2023-06-08T09:19:30.245302Z"
    }
   }
  },
  {
   "cell_type": "code",
   "execution_count": 7,
   "outputs": [],
   "source": [
    "follow_tensor = torch.tensor(np.transpose(np.array(follow_df)))\n",
    "friend_tensor = torch.tensor(np.transpose(np.array(friend_df)))\n",
    "post_tensor = torch.tensor(np.transpose(np.array(post_df)))"
   ],
   "metadata": {
    "collapsed": false,
    "ExecuteTime": {
     "end_time": "2023-06-08T09:20:38.205392100Z",
     "start_time": "2023-06-08T09:20:37.911432800Z"
    }
   }
  },
  {
   "cell_type": "code",
   "execution_count": 8,
   "outputs": [],
   "source": [
    "torch.save(follow_tensor, rf\"{tmp_files_root}/all_follow_edge_index.pt\")\n",
    "torch.save(friend_tensor, rf\"{tmp_files_root}/all_friend_edge_index.pt\")\n",
    "torch.save(post_tensor, rf\"{tmp_files_root}/all_post_edge_index.pt\")"
   ],
   "metadata": {
    "collapsed": false,
    "ExecuteTime": {
     "end_time": "2023-06-08T09:21:52.250903600Z",
     "start_time": "2023-06-08T09:21:48.498949500Z"
    }
   }
  },
  {
   "cell_type": "code",
   "execution_count": 10,
   "outputs": [],
   "source": [
    "follow_reduced_df = follow_df[((follow_df[\"source_id\"] < 11826) | (follow_df[\"source_id\"] >= 229580)) & ((follow_df[\"target_id\"] < 11826) | (follow_df[\"target_id\"] >= 229580))]\n",
    "follow_reduced_df_contrast = follow_df[(follow_df[\"source_id\"] < 11826) & (follow_df[\"target_id\"] < 11826)]\n",
    "\n",
    "friend_reduced_df = friend_df[((friend_df[\"source_id\"] < 11826) | (friend_df[\"source_id\"] >= 229580)) & ((friend_df[\"target_id\"] < 11826) | (friend_df[\"target_id\"] >= 229580))]\n",
    "friend_reduced_df_contrast = friend_df[(friend_df[\"source_id\"] < 11826) & (friend_df[\"target_id\"] < 11826)]\n",
    "\n",
    "post_reduced_df = post_df[(post_df[\"source_id\"] < 11826) | (post_df[\"source_id\"] >= 229580)]\n",
    "post_reduced_df_contrast = post_df[post_df[\"source_id\"] < 11826]"
   ],
   "metadata": {
    "collapsed": false
   }
  },
  {
   "cell_type": "code",
   "execution_count": 13,
   "outputs": [],
   "source": [
    "follow_tensor = torch.tensor(np.transpose(np.array(follow_reduced_df)))\n",
    "friend_tensor = torch.tensor(np.transpose(np.array(friend_reduced_df)))\n",
    "post_tensor = torch.tensor(np.transpose(np.array(post_reduced_df)))"
   ],
   "metadata": {
    "collapsed": false
   }
  },
  {
   "cell_type": "code",
   "execution_count": 14,
   "outputs": [],
   "source": [
    "torch.save(follow_tensor, rf\"{tmp_files_root}/follow_edge_index.pt\")\n",
    "torch.save(friend_tensor, rf\"{tmp_files_root}/friend_edge_index.pt\")\n",
    "torch.save(post_tensor, rf\"{tmp_files_root}/post_edge_index.pt\")"
   ],
   "metadata": {
    "collapsed": false
   }
  }
 ],
 "metadata": {
  "kernelspec": {
   "display_name": "Python 3",
   "language": "python",
   "name": "python3"
  },
  "language_info": {
   "codemirror_mode": {
    "name": "ipython",
    "version": 2
   },
   "file_extension": ".py",
   "mimetype": "text/x-python",
   "name": "python",
   "nbconvert_exporter": "python",
   "pygments_lexer": "ipython2",
   "version": "2.7.6"
  }
 },
 "nbformat": 4,
 "nbformat_minor": 0
}
