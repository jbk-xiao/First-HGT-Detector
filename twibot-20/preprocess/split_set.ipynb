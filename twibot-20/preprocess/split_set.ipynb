{
 "cells": [
  {
   "cell_type": "code",
   "execution_count": 5,
   "metadata": {
    "collapsed": true
   },
   "outputs": [],
   "source": [
    "import pandas as pd\n",
    "import torch\n",
    "from tqdm.notebook import tqdm\n",
    "from datetime import datetime"
   ]
  },
  {
   "cell_type": "code",
   "execution_count": 6,
   "outputs": [],
   "source": [
    "datasets_root = r\"E:/social-bot-data/datasets/Twibot-20\"\n",
    "tmp_files_root = r\"./tmp-files\""
   ],
   "metadata": {
    "collapsed": false
   }
  },
  {
   "cell_type": "code",
   "execution_count": 3,
   "outputs": [],
   "source": [
    "# node2id_list = pd.read_csv(rf\"{datasets_root}/node2id.csv\", dtype={\"node_id\": str,\"num_id\": int}) # tweets: 1-33488192, users: 33488193-33713010"
   ],
   "metadata": {
    "collapsed": false
   }
  },
  {
   "cell_type": "markdown",
   "source": [
    "### 依照split.csv文件将用户节点的索引划分为训练集、验证集和测试集"
   ],
   "metadata": {
    "collapsed": false
   }
  },
  {
   "cell_type": "code",
   "execution_count": 8,
   "outputs": [
    {
     "name": "stdout",
     "output_type": "stream",
     "text": [
      "2023-03-09 15:01:30.094775----Reading split.csv...\n"
     ]
    }
   ],
   "source": [
    "print(f\"{datetime.now()}----Reading split.csv...\")\n",
    "split_df = pd.read_csv(rf\"{datasets_root}/split.csv\")\n",
    "# split_df = pd.merge(split_df, node2id_list, left_on=\"id\", right_on=\"node_id\", how=\"inner\")\n",
    "# split_df.sort_values(\"num_id\", ascending=True, inplace=True)\n",
    "reduced_split_df = split_df[split_df[\"split\"] != \"support\"]"
   ],
   "metadata": {
    "collapsed": false
   }
  },
  {
   "cell_type": "code",
   "execution_count": 14,
   "outputs": [
    {
     "name": "stderr",
     "output_type": "stream",
     "text": [
      "C:\\Users\\jbk-xiao\\AppData\\Local\\Temp\\ipykernel_18828\\1568141745.py:3: SettingWithCopyWarning: \n",
      "A value is trying to be set on a copy of a slice from a DataFrame.\n",
      "Try using .loc[row_indexer,col_indexer] = value instead\n",
      "\n",
      "See the caveats in the documentation: https://pandas.pydata.org/pandas-docs/stable/user_guide/indexing.html#returning-a-view-versus-a-copy\n",
      "  reduced_split_df[\"idx\"] = idx_list\n"
     ]
    }
   ],
   "source": [
    "idx = 0\n",
    "idx_list = [i for i in range(0, len(reduced_split_df))]\n",
    "reduced_split_df[\"idx\"] = idx_list"
   ],
   "metadata": {
    "collapsed": false
   }
  },
  {
   "cell_type": "code",
   "execution_count": 16,
   "outputs": [],
   "source": [
    "train_idx = torch.LongTensor(reduced_split_df[reduced_split_df[\"split\"] == \"train\"][\"idx\"].tolist())\n",
    "val_idx = torch.LongTensor(reduced_split_df[reduced_split_df[\"split\"] == \"val\"][\"idx\"].tolist())\n",
    "test_idx = torch.LongTensor(reduced_split_df[reduced_split_df[\"split\"] == \"test\"][\"idx\"].tolist())"
   ],
   "metadata": {
    "collapsed": false
   }
  },
  {
   "cell_type": "code",
   "execution_count": 17,
   "outputs": [],
   "source": [
    "torch.save(train_idx, rf\"{tmp_files_root}/train_index.pt\")\n",
    "torch.save(val_idx, rf\"{tmp_files_root}/val_index.pt\")\n",
    "torch.save(test_idx, rf\"{tmp_files_root}/test_index.pt\")"
   ],
   "metadata": {
    "collapsed": false
   }
  }
 ],
 "metadata": {
  "kernelspec": {
   "display_name": "Python 3",
   "language": "python",
   "name": "python3"
  },
  "language_info": {
   "codemirror_mode": {
    "name": "ipython",
    "version": 2
   },
   "file_extension": ".py",
   "mimetype": "text/x-python",
   "name": "python",
   "nbconvert_exporter": "python",
   "pygments_lexer": "ipython2",
   "version": "2.7.6"
  }
 },
 "nbformat": 4,
 "nbformat_minor": 0
}
