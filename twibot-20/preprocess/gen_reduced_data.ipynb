{
 "cells": [
  {
   "cell_type": "code",
   "execution_count": 1,
   "metadata": {
    "collapsed": true
   },
   "outputs": [],
   "source": [
    "import pandas as pd\n",
    "import torch\n",
    "from tqdm import tqdm\n",
    "import numpy as np\n",
    "from datetime import datetime"
   ]
  },
  {
   "cell_type": "markdown",
   "source": [],
   "metadata": {
    "collapsed": false
   }
  },
  {
   "cell_type": "code",
   "execution_count": 2,
   "outputs": [],
   "source": [
    "tmp_files_root = r\"./tmp-files\""
   ],
   "metadata": {
    "collapsed": false
   }
  },
  {
   "cell_type": "code",
   "execution_count": 3,
   "outputs": [],
   "source": [
    "edge_index = torch.load(f\"{tmp_files_root}/edge_index.pt\")\n",
    "edge_type = torch.load(f\"{tmp_files_root}/edge_type.pt\")"
   ],
   "metadata": {
    "collapsed": false
   }
  },
  {
   "cell_type": "code",
   "execution_count": 4,
   "outputs": [],
   "source": [
    "edge_index_arr = np.transpose(np.array(edge_index))\n",
    "edge_type_arr = np.array(edge_type)"
   ],
   "metadata": {
    "collapsed": false
   }
  },
  {
   "cell_type": "code",
   "execution_count": 8,
   "outputs": [],
   "source": [
    "edge_index_df = pd.DataFrame(edge_index_arr, columns=[\"source_id\", \"target_id\"])\n",
    "edge_type_df = pd.DataFrame(edge_type_arr, columns=[\"type\"])"
   ],
   "metadata": {
    "collapsed": false
   }
  },
  {
   "cell_type": "code",
   "execution_count": 12,
   "outputs": [],
   "source": [
    "# 去除[11826, 229580)的边\n",
    "edge_all = edge_index_df.join(edge_type_df)"
   ],
   "metadata": {
    "collapsed": false
   }
  },
  {
   "cell_type": "code",
   "execution_count": 15,
   "outputs": [],
   "source": [
    "edge_all_reduced = edge_all[((edge_all[\"source_id\"] < 11826) | (edge_all[\"source_id\"] >= 229580)) & ((edge_all[\"target_id\"] < 11826) | (edge_all[\"target_id\"] >= 229580))]"
   ],
   "metadata": {
    "collapsed": false
   }
  },
  {
   "cell_type": "code",
   "execution_count": 20,
   "outputs": [],
   "source": [
    "edge_index_reduced_df = edge_all_reduced[[\"source_id\", \"target_id\"]]\n",
    "edge_type_reduced_df = edge_all_reduced[[\"type\"]]"
   ],
   "metadata": {
    "collapsed": false
   }
  },
  {
   "cell_type": "code",
   "execution_count": 25,
   "outputs": [],
   "source": [
    "edge_index_reduced = torch.tensor(np.transpose(np.array(edge_index_reduced_df)))\n",
    "edge_type_reduced = torch.tensor(np.squeeze(np.array(edge_type_reduced_df)))"
   ],
   "metadata": {
    "collapsed": false
   }
  },
  {
   "cell_type": "code",
   "execution_count": 26,
   "outputs": [],
   "source": [
    "torch.save(edge_index_reduced, rf\"{tmp_files_root}/edge_index_reduced.pt\")\n",
    "torch.save(edge_type_reduced, rf\"{tmp_files_root}/edge_type_reduced.pt\")"
   ],
   "metadata": {
    "collapsed": false
   }
  }
 ],
 "metadata": {
  "kernelspec": {
   "display_name": "Python 3",
   "language": "python",
   "name": "python3"
  },
  "language_info": {
   "codemirror_mode": {
    "name": "ipython",
    "version": 2
   },
   "file_extension": ".py",
   "mimetype": "text/x-python",
   "name": "python",
   "nbconvert_exporter": "python",
   "pygments_lexer": "ipython2",
   "version": "2.7.6"
  }
 },
 "nbformat": 4,
 "nbformat_minor": 0
}
