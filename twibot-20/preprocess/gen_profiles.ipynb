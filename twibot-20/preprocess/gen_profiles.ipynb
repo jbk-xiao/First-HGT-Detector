{
 "cells": [
  {
   "cell_type": "code",
   "execution_count": 8,
   "outputs": [],
   "source": [
    "import pandas as pd\n",
    "import torch\n",
    "from tqdm.notebook import tqdm\n",
    "import ijson"
   ],
   "metadata": {
    "collapsed": false
   }
  },
  {
   "cell_type": "code",
   "execution_count": 2,
   "outputs": [],
   "source": [
    "datasets_root = r\"E:\\social-bot-data\\datasets\\Twibot-20\"\n",
    "tmp_files_root = r\"E:\\social-bot-data\\code\\First-HGT-Detector\\twibot-20\\preprocess\\tmp-files\""
   ],
   "metadata": {
    "collapsed": false
   }
  },
  {
   "cell_type": "code",
   "execution_count": null,
   "outputs": [],
   "source": [
    "node2id_list = pd.read_csv(rf\"{datasets_root}\\node2id.csv\", dtype={\"node_id\": str,\"num_id\": int}) # tweets: 1-33488192, users: 33488193-33713010\n",
    "node2id = {}\n",
    "for row in node2id_list.iterrows():\n",
    "    node2id[row[1][\"node_id\"]] = row[1][\"num_id\"]"
   ],
   "metadata": {
    "collapsed": false
   }
  }
 ],
 "metadata": {
  "kernelspec": {
   "display_name": "Python 3",
   "language": "python",
   "name": "python3"
  },
  "language_info": {
   "codemirror_mode": {
    "name": "ipython",
    "version": 2
   },
   "file_extension": ".py",
   "mimetype": "text/x-python",
   "name": "python",
   "nbconvert_exporter": "python",
   "pygments_lexer": "ipython2",
   "version": "2.7.6"
  }
 },
 "nbformat": 4,
 "nbformat_minor": 0
}
