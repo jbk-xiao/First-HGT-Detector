{
 "cells": [
  {
   "cell_type": "code",
   "execution_count": 2,
   "metadata": {
    "collapsed": true
   },
   "outputs": [],
   "source": [
    "import numpy as np\n",
    "import pandas as pd\n",
    "import torch\n",
    "from tqdm.notebook import tqdm"
   ]
  },
  {
   "cell_type": "code",
   "execution_count": 1,
   "outputs": [],
   "source": [
    "tmp_files_root = r\"./tmp-files\""
   ],
   "metadata": {
    "collapsed": false
   }
  },
  {
   "cell_type": "code",
   "execution_count": 3,
   "outputs": [],
   "source": [
    "test_index = torch.load(rf\"{tmp_files_root}/test_index.pt\")\n",
    "post_edge_index = torch.load(rf\"{tmp_files_root}/post_edge_index.pt\")"
   ],
   "metadata": {
    "collapsed": false
   }
  },
  {
   "cell_type": "code",
   "execution_count": 6,
   "outputs": [],
   "source": [
    "test_index_set = {i for i in np.array(test_index)}\n",
    "post_edge_index_df = pd.DataFrame(np.transpose(np.array(post_edge_index)), columns=['source_id', 'target_id'])"
   ],
   "metadata": {
    "collapsed": false
   }
  },
  {
   "cell_type": "code",
   "execution_count": 11,
   "outputs": [],
   "source": [
    "test_post_edge_index_df = post_edge_index_df[post_edge_index_df['source_id'] > 10642]"
   ],
   "metadata": {
    "collapsed": false
   }
  },
  {
   "cell_type": "code",
   "execution_count": 16,
   "outputs": [],
   "source": [
    "test_tweets_id_ls = test_post_edge_index_df['target_id'].tolist()\n",
    "test_tweets_id = torch.LongTensor(test_tweets_id_ls)\n",
    "torch.save(test_tweets_id, rf\"{tmp_files_root}/test_tweets_id.pt\")"
   ],
   "metadata": {
    "collapsed": false
   }
  }
 ],
 "metadata": {
  "kernelspec": {
   "display_name": "Python 3",
   "language": "python",
   "name": "python3"
  },
  "language_info": {
   "codemirror_mode": {
    "name": "ipython",
    "version": 2
   },
   "file_extension": ".py",
   "mimetype": "text/x-python",
   "name": "python",
   "nbconvert_exporter": "python",
   "pygments_lexer": "ipython2",
   "version": "2.7.6"
  }
 },
 "nbformat": 4,
 "nbformat_minor": 0
}
