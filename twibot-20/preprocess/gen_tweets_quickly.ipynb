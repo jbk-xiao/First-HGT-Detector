{
 "cells": [
  {
   "cell_type": "code",
   "execution_count": 1,
   "metadata": {
    "collapsed": true
   },
   "outputs": [],
   "source": [
    "import pandas as pd\n",
    "import torch\n",
    "from tqdm.notebook import tqdm\n",
    "from datetime import datetime\n",
    "from transformers import pipeline"
   ]
  },
  {
   "cell_type": "code",
   "execution_count": 2,
   "outputs": [],
   "source": [
    "datasets_root = r\"E:/social-bot-data/datasets/Twibot-20\"\n",
    "tmp_files_root = r\"./tmp-files\""
   ],
   "metadata": {
    "collapsed": false
   }
  },
  {
   "cell_type": "code",
   "execution_count": 3,
   "outputs": [],
   "source": [
    "print(f\"{datetime.now()}----Reading node2id.csv...\")\n",
    "node2id_list = pd.read_csv(rf\"{datasets_root}/node2id.csv\", dtype={\"node_id\": str, \"num_id\": int}) # tweets: 1-33488192, users: 33488193-33713010"
   ],
   "metadata": {
    "collapsed": false
   }
  },
  {
   "cell_type": "code",
   "execution_count": 5,
   "outputs": [],
   "source": [
    "node_file = \"mini-nodes-for-test.json\""
   ],
   "metadata": {
    "collapsed": false
   }
  },
  {
   "cell_type": "markdown",
   "source": [
    "### 较为快速地生成推文向量，内存占用较高"
   ],
   "metadata": {
    "collapsed": false
   }
  },
  {
   "cell_type": "code",
   "execution_count": 7,
   "outputs": [
    {
     "name": "stdout",
     "output_type": "stream",
     "text": [
      "2023-03-08 21:21:10.730049----Reading node.json...\n"
     ]
    }
   ],
   "source": [
    "print(f\"{datetime.now()}----Reading node.json...\")\n",
    "node_df = pd.read_json(rf\"{datasets_root}/{node_file}\", encoding=\"utf-8\")\n",
    "tweet_df = (node_df[node_df.id.str.len() > 0])[node_df.id.str.contains(\"^t\")]\n",
    "tweet_df = pd.merge(tweet_df, node2id_list, left_on=\"id\", right_on=\"node_id\", how=\"inner\")\n",
    "tweet_df.sort_values(\"num_id\", ascending=True, inplace=True)"
   ],
   "metadata": {
    "collapsed": false
   }
  },
  {
   "cell_type": "code",
   "execution_count": 9,
   "outputs": [
    {
     "name": "stderr",
     "output_type": "stream",
     "text": [
      "Some weights of the model checkpoint at roberta-base were not used when initializing RobertaModel: ['lm_head.bias', 'lm_head.layer_norm.weight', 'lm_head.layer_norm.bias', 'lm_head.dense.weight', 'lm_head.decoder.weight', 'lm_head.dense.bias']\n",
      "- This IS expected if you are initializing RobertaModel from the checkpoint of a model trained on another task or with another architecture (e.g. initializing a BertForSequenceClassification model from a BertForPreTraining model).\n",
      "- This IS NOT expected if you are initializing RobertaModel from the checkpoint of a model that you expect to be exactly identical (initializing a BertForSequenceClassification model from a BertForSequenceClassification model).\n"
     ]
    }
   ],
   "source": [
    "tweet_feature_extract = pipeline('feature-extraction', model='roberta-base', tokenizer='roberta-base', device=0, padding=True, truncation=True, max_length=50, add_special_tokens=True)"
   ],
   "metadata": {
    "collapsed": false
   }
  },
  {
   "cell_type": "code",
   "execution_count": 11,
   "outputs": [
    {
     "name": "stdout",
     "output_type": "stream",
     "text": [
      "2023-03-08 21:25:59.814493----Generate tweet tensors...\n"
     ]
    },
    {
     "data": {
      "text/plain": "get tweet tensors:   0%|          | 0/2 [00:00<?, ?it/s]",
      "application/vnd.jupyter.widget-view+json": {
       "version_major": 2,
       "version_minor": 0,
       "model_id": "740edb354ccf41f2a756271baf5dbb00"
      }
     },
     "metadata": {},
     "output_type": "display_data"
    }
   ],
   "source": [
    "print(f\"{datetime.now()}----Generate tweet tensors...\")\n",
    "tweet_list = []\n",
    "\n",
    "def get_tweet_tensor(text):\n",
    "    if text is None:\n",
    "        tweet_list.append(torch.zeros(768))\n",
    "    else:\n",
    "        word_tensors = torch.tensor(tweet_feature_extract(text))\n",
    "        each_tweet_tensor = torch.zeros(768)\n",
    "        for word_tensor in word_tensors[0]:\n",
    "            each_tweet_tensor += word_tensor\n",
    "        tweet_list.append(each_tweet_tensor)\n",
    "\n",
    "tqdm.pandas(desc=\"get tweet tensors\")\n",
    "tweet_df[\"text\"].progress_apply(get_tweet_tensor)\n",
    "tweet_tensor = torch.stack(tweet_list, 0)\n",
    "torch.save(tweet_tensor, rf\"{tmp_files_root}/tweet_tensor.pt\")"
   ],
   "metadata": {
    "collapsed": false
   }
  }
 ],
 "metadata": {
  "kernelspec": {
   "display_name": "Python 3",
   "language": "python",
   "name": "python3"
  },
  "language_info": {
   "codemirror_mode": {
    "name": "ipython",
    "version": 2
   },
   "file_extension": ".py",
   "mimetype": "text/x-python",
   "name": "python",
   "nbconvert_exporter": "python",
   "pygments_lexer": "ipython2",
   "version": "2.7.6"
  }
 },
 "nbformat": 4,
 "nbformat_minor": 0
}
