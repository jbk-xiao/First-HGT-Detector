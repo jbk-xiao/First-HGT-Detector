{
 "cells": [
  {
   "cell_type": "code",
   "execution_count": 1,
   "metadata": {
    "collapsed": true
   },
   "outputs": [],
   "source": [
    "import torch\n",
    "from torch_geometric.data import HeteroData\n",
    "import numpy as np\n",
    "from torch_geometric.loader import HGTLoader, NeighborLoader"
   ]
  },
  {
   "cell_type": "code",
   "execution_count": 2,
   "outputs": [],
   "source": [
    "cat_props = torch.rand([100, 4])\n",
    "num_props = torch.rand([100, 5])\n",
    "des_props = torch.rand([100, 768])\n",
    "\n",
    "label = torch.rand(100).round()\n",
    "\n",
    "tweet_tensor = torch.rand([200, 768])\n",
    "\n",
    "follow_src = torch.tensor(np.random.choice(100, 200, replace=True))\n",
    "follow_dst = torch.tensor(np.random.choice(100, 200, replace=True))\n",
    "follow = torch.concat((follow_src, follow_dst)).reshape(-1, 200).long()\n",
    "friend = torch.concat((follow_dst, follow_src)).reshape(-1, 200).long()\n",
    "\n",
    "post_src = torch.tensor(np.random.choice(100, 500, replace=True))\n",
    "post_dst = torch.tensor(np.random.choice(200, 500, replace=True))\n",
    "post = torch.concat((post_src, post_dst)).reshape(-1, 500).long()"
   ],
   "metadata": {
    "collapsed": false
   }
  },
  {
   "cell_type": "code",
   "execution_count": 3,
   "outputs": [],
   "source": [
    "train_idx = torch.zeros(100)\n",
    "train_idx[range(0, 60)] = 1\n",
    "train_idx = train_idx.bool()\n",
    "val_idx = torch.zeros(100)\n",
    "val_idx[range(60, 80)] = 1\n",
    "val_idx = val_idx.bool()\n",
    "test_idx = torch.zeros(100)\n",
    "test_idx[range(80, 100)] = 1\n",
    "test_idx = test_idx.bool()\n",
    "# train_idx = torch.tensor(range(0, 60)).long()\n",
    "# val_idx = torch.tensor(range(60, 80)).long()\n",
    "# test_idx = torch.tensor(range(80, 100)).long()"
   ],
   "metadata": {
    "collapsed": false
   }
  },
  {
   "cell_type": "code",
   "execution_count": 4,
   "outputs": [],
   "source": [
    "# torch.concat([cat_props, num_props, des_props], dim=1)"
   ],
   "metadata": {
    "collapsed": false
   }
  },
  {
   "cell_type": "code",
   "execution_count": 4,
   "outputs": [],
   "source": [
    "device = \"cpu\""
   ],
   "metadata": {
    "collapsed": false
   }
  },
  {
   "cell_type": "code",
   "execution_count": 5,
   "outputs": [],
   "source": [
    "hetero_twi = HeteroData(\n",
    "    {\n",
    "        'user': {\n",
    "            'x': torch.concat([cat_props, num_props, des_props], dim=1),\n",
    "            'y': label,\n",
    "            'train_mask': train_idx,\n",
    "            'val_mask': val_idx,\n",
    "            'test_mask': test_idx\n",
    "        },\n",
    "        'tweet': {'x': tweet_tensor}\n",
    "    },\n",
    "    user__follow__user={'edge_index': follow},\n",
    "    user__friend__user={'edge_index': friend},\n",
    "    user__post__tweet={'edge_index': post}\n",
    ")"
   ],
   "metadata": {
    "collapsed": false
   }
  },
  {
   "cell_type": "code",
   "execution_count": 6,
   "outputs": [
    {
     "data": {
      "text/plain": "(['user', 'tweet'],\n [('user', 'follow', 'user'),\n  ('user', 'friend', 'user'),\n  ('user', 'post', 'tweet')])"
     },
     "execution_count": 6,
     "metadata": {},
     "output_type": "execute_result"
    }
   ],
   "source": [
    "hetero_twi.metadata()"
   ],
   "metadata": {
    "collapsed": false
   }
  },
  {
   "cell_type": "code",
   "execution_count": 8,
   "outputs": [],
   "source": [
    "# 存在不明原因报错\n",
    "# train_loader = HGTLoader(hetero_twi, num_samples={key: [2] for key in hetero_twi.node_types}, input_nodes=('user', hetero_twi['user'].train_mask), batch_size=2, num_workers=1)\n",
    "# val_loader = HGTLoader(hetero_twi, num_samples={key: [2] for key in hetero_twi.node_types}, input_nodes=('user', hetero_twi['user'].val_mask), batch_size=2, num_workers=1)"
   ],
   "metadata": {
    "collapsed": false
   }
  },
  {
   "cell_type": "code",
   "execution_count": 8,
   "outputs": [],
   "source": [
    "train_loader = NeighborLoader(hetero_twi, num_neighbors={key: [2] for key in hetero_twi.edge_types}, input_nodes=('user', hetero_twi['user'].train_mask), batch_size=2, num_workers=1)\n",
    "val_loader = NeighborLoader(hetero_twi, num_neighbors={key: [2] for key in hetero_twi.edge_types}, input_nodes=('user', hetero_twi['user'].val_mask), batch_size=2, num_workers=1)"
   ],
   "metadata": {
    "collapsed": false
   }
  },
  {
   "cell_type": "code",
   "execution_count": 9,
   "outputs": [],
   "source": [
    "from torch_geometric.transforms import ToUndirected\n",
    "undirected_transform = ToUndirected(merge=True)\n",
    "undirected_hetero_twi = undirected_transform(hetero_twi)\n",
    "nei_train_loader = NeighborLoader(undirected_hetero_twi, num_neighbors={key: [10] for key in hetero_twi.edge_types}, shuffle=True, input_nodes=('user', hetero_twi['user'].train_mask), batch_size=32, num_workers=0, persistent_workers=False)\n",
    "nei_val_loader = NeighborLoader(hetero_twi, num_neighbors={key: [10] for key in hetero_twi.edge_types}, input_nodes=('user', hetero_twi['user'].val_mask), batch_size=32, num_workers=0)"
   ],
   "metadata": {
    "collapsed": false
   }
  },
  {
   "cell_type": "code",
   "execution_count": 10,
   "outputs": [
    {
     "name": "stdout",
     "output_type": "stream",
     "text": [
      "HeteroData(\n",
      "  \u001B[1muser\u001B[0m={\n",
      "    x=[81, 777],\n",
      "    y=[81],\n",
      "    train_mask=[81],\n",
      "    val_mask=[81],\n",
      "    test_mask=[81],\n",
      "    input_id=[32],\n",
      "    batch_size=32\n",
      "  },\n",
      "  \u001B[1mtweet\u001B[0m={ x=[103, 768] },\n",
      "  \u001B[1m(user, follow, user)\u001B[0m={ edge_index=[2, 117] },\n",
      "  \u001B[1m(user, friend, user)\u001B[0m={ edge_index=[2, 117] },\n",
      "  \u001B[1m(user, post, tweet)\u001B[0m={ edge_index=[2, 0] },\n",
      "  \u001B[1m(tweet, rev_post, user)\u001B[0m={ edge_index=[2, 152] }\n",
      ")\n",
      "HeteroData(\n",
      "  \u001B[1muser\u001B[0m={\n",
      "    x=[77, 777],\n",
      "    y=[77],\n",
      "    train_mask=[77],\n",
      "    val_mask=[77],\n",
      "    test_mask=[77],\n",
      "    input_id=[28],\n",
      "    batch_size=28\n",
      "  },\n",
      "  \u001B[1mtweet\u001B[0m={ x=[113, 768] },\n",
      "  \u001B[1m(user, follow, user)\u001B[0m={ edge_index=[2, 98] },\n",
      "  \u001B[1m(user, friend, user)\u001B[0m={ edge_index=[2, 98] },\n",
      "  \u001B[1m(user, post, tweet)\u001B[0m={ edge_index=[2, 0] },\n",
      "  \u001B[1m(tweet, rev_post, user)\u001B[0m={ edge_index=[2, 163] }\n",
      ")\n"
     ]
    },
    {
     "data": {
      "text/plain": "[('user', 'follow', 'user'),\n ('user', 'friend', 'user'),\n ('user', 'post', 'tweet'),\n ('tweet', 'rev_post', 'user')]"
     },
     "execution_count": 10,
     "metadata": {},
     "output_type": "execute_result"
    }
   ],
   "source": [
    "for sampled_hetero_data in nei_train_loader:\n",
    "    print(sampled_hetero_data)\n",
    "hetero_twi.edge_types"
   ],
   "metadata": {
    "collapsed": false
   }
  },
  {
   "cell_type": "code",
   "execution_count": 11,
   "outputs": [],
   "source": [
    "import torch\n",
    "from torch import nn\n",
    "from torch_geometric.nn import HGTConv\n",
    "\n",
    "\n",
    "class PropertyVector(nn.Module):\n",
    "    def __init__(self, n_cat_prop=4, n_num_prop=5, des_size=768, embedding_dimension=128, dropout=0.3):\n",
    "        super(PropertyVector, self).__init__()\n",
    "\n",
    "        self.n_cat_prop = n_cat_prop\n",
    "        self.n_num_prop = n_num_prop\n",
    "        self.des_size = des_size\n",
    "\n",
    "        self.cat_prop_module = nn.Sequential(\n",
    "            nn.Linear(n_cat_prop, int(embedding_dimension / 4)),\n",
    "            nn.LeakyReLU()\n",
    "        )\n",
    "        self.num_prop_module = nn.Sequential(\n",
    "            nn.Linear(n_num_prop, int(embedding_dimension / 4)),\n",
    "            nn.LeakyReLU()\n",
    "        )\n",
    "        self.prop_module = nn.Sequential(\n",
    "            nn.Linear(int(embedding_dimension / 2), int(embedding_dimension / 2)),\n",
    "            nn.LeakyReLU()\n",
    "        )\n",
    "        self.des_module = nn.Sequential(\n",
    "            nn.Linear(des_size, int(embedding_dimension / 2)),\n",
    "            nn.LeakyReLU()\n",
    "        )\n",
    "        self.out_layer = nn.Sequential(\n",
    "            nn.Linear(embedding_dimension, embedding_dimension),\n",
    "            nn.LeakyReLU()\n",
    "        )\n",
    "\n",
    "    def forward(self, user_tensor):\n",
    "        cat_prop, num_prop, des = torch.split_with_sizes(user_tensor, [self.n_cat_prop, self.n_num_prop, self.des_size], dim=1)\n",
    "        cat_prop_vec = self.cat_prop_module(cat_prop)\n",
    "        num_prop_vec = self.num_prop_module(num_prop)\n",
    "        des_vec = self.des_module(des)\n",
    "        prop_vec = torch.concat((cat_prop_vec, num_prop_vec, des_vec), dim=1)\n",
    "        prop_vec = self.out_layer(prop_vec)\n",
    "        return prop_vec\n",
    "\n",
    "\n",
    "class TweetVector(nn.Module):\n",
    "    def __init__(self, tweet_size=768, embedding_dimension=128, dropout=0.3):\n",
    "        super(TweetVector, self).__init__()\n",
    "        self.tweet_module = nn.Sequential(\n",
    "            nn.Linear(tweet_size, embedding_dimension),\n",
    "            nn.LeakyReLU()\n",
    "        )\n",
    "\n",
    "    def forward(self, tweet_tensor):\n",
    "        tweet_vec = self.tweet_module(tweet_tensor)\n",
    "        return tweet_vec\n",
    "\n",
    "\n",
    "class HGTDetector(nn.Module):\n",
    "    def __init__(self, n_cat_prop=4, n_num_prop=5, des_size=768, tweet_size=768, embedding_dimension=128, dropout=0.3):\n",
    "        super(HGTDetector, self).__init__()\n",
    "\n",
    "        meta_node = [\"user\", \"tweet\"]\n",
    "        meta_edge = [(\"user\", \"follow\", \"user\"), (\"user\", \"friend\", \"user\"), (\"user\", \"post\", \"tweet\"), (\"tweet\", \"rev_post\", \"user\")]\n",
    "\n",
    "        self.module_dict = nn.ModuleDict()\n",
    "        self.module_dict[\"user\"] = PropertyVector(n_cat_prop, n_num_prop, des_size, embedding_dimension, dropout)\n",
    "        self.module_dict[\"tweet\"] = TweetVector(tweet_size, embedding_dimension, dropout)\n",
    "\n",
    "        self.HGT_layer1 = HGTConv(in_channels=embedding_dimension, out_channels=embedding_dimension, metadata=(meta_node, meta_edge))\n",
    "        self.HGT_layer2 = HGTConv(in_channels=embedding_dimension, out_channels=embedding_dimension, metadata=(meta_node, meta_edge))\n",
    "\n",
    "        self.classify_layer = nn.Sequential(\n",
    "            nn.Linear(embedding_dimension, embedding_dimension),\n",
    "            nn.LeakyReLU(),\n",
    "            nn.Linear(embedding_dimension, 2),\n",
    "            nn.Softmax(dim=1)\n",
    "        )\n",
    "\n",
    "    def forward(self, x_dict, edge_index_dict):\n",
    "        x_dict = {\n",
    "            node_type: self.module_dict[node_type](x)\n",
    "            for node_type, x in x_dict.items()\n",
    "        }\n",
    "\n",
    "        x_dict = self.HGT_layer1(x_dict, edge_index_dict)\n",
    "        x_dict = self.HGT_layer2(x_dict, edge_index_dict)\n",
    "\n",
    "        out = self.classify_layer(x_dict[\"user\"])\n",
    "\n",
    "        return out\n",
    "\n"
   ],
   "metadata": {
    "collapsed": false
   }
  },
  {
   "cell_type": "code",
   "execution_count": 43,
   "outputs": [],
   "source": [
    "a = next(iter(nei_train_loader))\n",
    "b = next(iter(nei_train_loader))\n",
    "c = next(iter(nei_train_loader))"
   ],
   "metadata": {
    "collapsed": false
   }
  },
  {
   "cell_type": "code",
   "execution_count": 12,
   "outputs": [
    {
     "data": {
      "text/plain": "  0%|          | 0/2 [00:00<?, ?it/s]",
      "application/vnd.jupyter.widget-view+json": {
       "version_major": 2,
       "version_minor": 0,
       "model_id": "cd280ecb61a94a62840185edc1b385fd"
      }
     },
     "metadata": {},
     "output_type": "display_data"
    },
    {
     "data": {
      "text/plain": "  0%|          | 0/1 [00:00<?, ?it/s]",
      "application/vnd.jupyter.widget-view+json": {
       "version_major": 2,
       "version_minor": 0,
       "model_id": "b103feea24074b7f8c90fe27a471818a"
      }
     },
     "metadata": {},
     "output_type": "display_data"
    },
    {
     "name": "stdout",
     "output_type": "stream",
     "text": [
      "Epoch: 01, Loss: 0.6891, Val: 0.6000\n"
     ]
    },
    {
     "data": {
      "text/plain": "  0%|          | 0/2 [00:00<?, ?it/s]",
      "application/vnd.jupyter.widget-view+json": {
       "version_major": 2,
       "version_minor": 0,
       "model_id": "aaae9d2d79e84f40a7f18d01b6f6dbc2"
      }
     },
     "metadata": {},
     "output_type": "display_data"
    },
    {
     "data": {
      "text/plain": "  0%|          | 0/1 [00:00<?, ?it/s]",
      "application/vnd.jupyter.widget-view+json": {
       "version_major": 2,
       "version_minor": 0,
       "model_id": "efd7fb27801b4f1589e2e0d6ed3b0fc3"
      }
     },
     "metadata": {},
     "output_type": "display_data"
    },
    {
     "name": "stdout",
     "output_type": "stream",
     "text": [
      "Epoch: 02, Loss: 0.6868, Val: 0.6000\n"
     ]
    },
    {
     "data": {
      "text/plain": "  0%|          | 0/2 [00:00<?, ?it/s]",
      "application/vnd.jupyter.widget-view+json": {
       "version_major": 2,
       "version_minor": 0,
       "model_id": "045f5f0164ce4742b43b86af947e091c"
      }
     },
     "metadata": {},
     "output_type": "display_data"
    },
    {
     "data": {
      "text/plain": "  0%|          | 0/1 [00:00<?, ?it/s]",
      "application/vnd.jupyter.widget-view+json": {
       "version_major": 2,
       "version_minor": 0,
       "model_id": "af8fb697842f4a5190b3fca37195570a"
      }
     },
     "metadata": {},
     "output_type": "display_data"
    },
    {
     "name": "stdout",
     "output_type": "stream",
     "text": [
      "Epoch: 03, Loss: 0.6905, Val: 0.6000\n"
     ]
    },
    {
     "data": {
      "text/plain": "  0%|          | 0/2 [00:00<?, ?it/s]",
      "application/vnd.jupyter.widget-view+json": {
       "version_major": 2,
       "version_minor": 0,
       "model_id": "0eadfe222e3d41e898d76d0699b5badd"
      }
     },
     "metadata": {},
     "output_type": "display_data"
    },
    {
     "data": {
      "text/plain": "  0%|          | 0/1 [00:00<?, ?it/s]",
      "application/vnd.jupyter.widget-view+json": {
       "version_major": 2,
       "version_minor": 0,
       "model_id": "148191eafa2148fdb9294125bb106cde"
      }
     },
     "metadata": {},
     "output_type": "display_data"
    },
    {
     "name": "stdout",
     "output_type": "stream",
     "text": [
      "Epoch: 04, Loss: 0.6860, Val: 0.6000\n"
     ]
    },
    {
     "data": {
      "text/plain": "  0%|          | 0/2 [00:00<?, ?it/s]",
      "application/vnd.jupyter.widget-view+json": {
       "version_major": 2,
       "version_minor": 0,
       "model_id": "bdc110b48107478d830d16440adb8f60"
      }
     },
     "metadata": {},
     "output_type": "display_data"
    },
    {
     "data": {
      "text/plain": "  0%|          | 0/1 [00:00<?, ?it/s]",
      "application/vnd.jupyter.widget-view+json": {
       "version_major": 2,
       "version_minor": 0,
       "model_id": "c845349f5d124a5ebe700223fc457e14"
      }
     },
     "metadata": {},
     "output_type": "display_data"
    },
    {
     "name": "stdout",
     "output_type": "stream",
     "text": [
      "Epoch: 05, Loss: 0.6839, Val: 0.6000\n"
     ]
    },
    {
     "data": {
      "text/plain": "  0%|          | 0/2 [00:00<?, ?it/s]",
      "application/vnd.jupyter.widget-view+json": {
       "version_major": 2,
       "version_minor": 0,
       "model_id": "2763622e0cd04c278ad20242eb9f4713"
      }
     },
     "metadata": {},
     "output_type": "display_data"
    },
    {
     "data": {
      "text/plain": "  0%|          | 0/1 [00:00<?, ?it/s]",
      "application/vnd.jupyter.widget-view+json": {
       "version_major": 2,
       "version_minor": 0,
       "model_id": "4d770472e5744ecdb664abc6758e98db"
      }
     },
     "metadata": {},
     "output_type": "display_data"
    },
    {
     "name": "stdout",
     "output_type": "stream",
     "text": [
      "Epoch: 06, Loss: 0.6844, Val: 0.6000\n"
     ]
    },
    {
     "data": {
      "text/plain": "  0%|          | 0/2 [00:00<?, ?it/s]",
      "application/vnd.jupyter.widget-view+json": {
       "version_major": 2,
       "version_minor": 0,
       "model_id": "f794414b028b46bea615b9573af01d6d"
      }
     },
     "metadata": {},
     "output_type": "display_data"
    },
    {
     "data": {
      "text/plain": "  0%|          | 0/1 [00:00<?, ?it/s]",
      "application/vnd.jupyter.widget-view+json": {
       "version_major": 2,
       "version_minor": 0,
       "model_id": "aa34738d093b4066bfc1ee11f072ebb1"
      }
     },
     "metadata": {},
     "output_type": "display_data"
    },
    {
     "name": "stdout",
     "output_type": "stream",
     "text": [
      "Epoch: 07, Loss: 0.6799, Val: 0.6000\n"
     ]
    },
    {
     "data": {
      "text/plain": "  0%|          | 0/2 [00:00<?, ?it/s]",
      "application/vnd.jupyter.widget-view+json": {
       "version_major": 2,
       "version_minor": 0,
       "model_id": "fa6f6bd7f0b74fa1ae30a9fb41ae3a1e"
      }
     },
     "metadata": {},
     "output_type": "display_data"
    },
    {
     "data": {
      "text/plain": "  0%|          | 0/1 [00:00<?, ?it/s]",
      "application/vnd.jupyter.widget-view+json": {
       "version_major": 2,
       "version_minor": 0,
       "model_id": "ba3eba1d0874497bbe33d268f43d4270"
      }
     },
     "metadata": {},
     "output_type": "display_data"
    },
    {
     "name": "stdout",
     "output_type": "stream",
     "text": [
      "Epoch: 08, Loss: 0.6813, Val: 0.6000\n"
     ]
    },
    {
     "data": {
      "text/plain": "  0%|          | 0/2 [00:00<?, ?it/s]",
      "application/vnd.jupyter.widget-view+json": {
       "version_major": 2,
       "version_minor": 0,
       "model_id": "dd6549e2382446038c6711bfd3aeca8f"
      }
     },
     "metadata": {},
     "output_type": "display_data"
    },
    {
     "data": {
      "text/plain": "  0%|          | 0/1 [00:00<?, ?it/s]",
      "application/vnd.jupyter.widget-view+json": {
       "version_major": 2,
       "version_minor": 0,
       "model_id": "a1ed1cd4e7e641a4b5670bda8577c0e0"
      }
     },
     "metadata": {},
     "output_type": "display_data"
    },
    {
     "name": "stdout",
     "output_type": "stream",
     "text": [
      "Epoch: 09, Loss: 0.6788, Val: 0.6000\n"
     ]
    },
    {
     "data": {
      "text/plain": "  0%|          | 0/2 [00:00<?, ?it/s]",
      "application/vnd.jupyter.widget-view+json": {
       "version_major": 2,
       "version_minor": 0,
       "model_id": "5044761d02624d2ba643ac2b3887a993"
      }
     },
     "metadata": {},
     "output_type": "display_data"
    },
    {
     "data": {
      "text/plain": "  0%|          | 0/1 [00:00<?, ?it/s]",
      "application/vnd.jupyter.widget-view+json": {
       "version_major": 2,
       "version_minor": 0,
       "model_id": "4b92a7aefe484fb0a9358254d14c8c47"
      }
     },
     "metadata": {},
     "output_type": "display_data"
    },
    {
     "name": "stdout",
     "output_type": "stream",
     "text": [
      "Epoch: 10, Loss: 0.6791, Val: 0.6000\n"
     ]
    },
    {
     "data": {
      "text/plain": "  0%|          | 0/2 [00:00<?, ?it/s]",
      "application/vnd.jupyter.widget-view+json": {
       "version_major": 2,
       "version_minor": 0,
       "model_id": "bfb4e38869fb4a018b5329fc52527165"
      }
     },
     "metadata": {},
     "output_type": "display_data"
    },
    {
     "data": {
      "text/plain": "  0%|          | 0/1 [00:00<?, ?it/s]",
      "application/vnd.jupyter.widget-view+json": {
       "version_major": 2,
       "version_minor": 0,
       "model_id": "6b6e5c8386a34c0d9585df0a19f58c72"
      }
     },
     "metadata": {},
     "output_type": "display_data"
    },
    {
     "name": "stdout",
     "output_type": "stream",
     "text": [
      "Epoch: 11, Loss: 0.6768, Val: 0.6000\n"
     ]
    },
    {
     "data": {
      "text/plain": "  0%|          | 0/2 [00:00<?, ?it/s]",
      "application/vnd.jupyter.widget-view+json": {
       "version_major": 2,
       "version_minor": 0,
       "model_id": "328f1ff945af419ea85edae3833a6438"
      }
     },
     "metadata": {},
     "output_type": "display_data"
    },
    {
     "data": {
      "text/plain": "  0%|          | 0/1 [00:00<?, ?it/s]",
      "application/vnd.jupyter.widget-view+json": {
       "version_major": 2,
       "version_minor": 0,
       "model_id": "c45ce1150b9242ad9936e11dd6247bdd"
      }
     },
     "metadata": {},
     "output_type": "display_data"
    },
    {
     "name": "stdout",
     "output_type": "stream",
     "text": [
      "Epoch: 12, Loss: 0.6706, Val: 0.6000\n"
     ]
    },
    {
     "data": {
      "text/plain": "  0%|          | 0/2 [00:00<?, ?it/s]",
      "application/vnd.jupyter.widget-view+json": {
       "version_major": 2,
       "version_minor": 0,
       "model_id": "884dc5deb922449694105ea8dbdbc809"
      }
     },
     "metadata": {},
     "output_type": "display_data"
    },
    {
     "data": {
      "text/plain": "  0%|          | 0/1 [00:00<?, ?it/s]",
      "application/vnd.jupyter.widget-view+json": {
       "version_major": 2,
       "version_minor": 0,
       "model_id": "e2bac0d867894a0e83b1984a6e7fe7dd"
      }
     },
     "metadata": {},
     "output_type": "display_data"
    },
    {
     "name": "stdout",
     "output_type": "stream",
     "text": [
      "Epoch: 13, Loss: 0.6523, Val: 0.6000\n"
     ]
    },
    {
     "data": {
      "text/plain": "  0%|          | 0/2 [00:00<?, ?it/s]",
      "application/vnd.jupyter.widget-view+json": {
       "version_major": 2,
       "version_minor": 0,
       "model_id": "8893e7f0f4d249adb33451c04f84ee2e"
      }
     },
     "metadata": {},
     "output_type": "display_data"
    },
    {
     "data": {
      "text/plain": "  0%|          | 0/1 [00:00<?, ?it/s]",
      "application/vnd.jupyter.widget-view+json": {
       "version_major": 2,
       "version_minor": 0,
       "model_id": "8c6d17dd9a244fe984ddbf400841f2be"
      }
     },
     "metadata": {},
     "output_type": "display_data"
    },
    {
     "name": "stdout",
     "output_type": "stream",
     "text": [
      "Epoch: 14, Loss: 0.6270, Val: 0.5500\n"
     ]
    },
    {
     "data": {
      "text/plain": "  0%|          | 0/2 [00:00<?, ?it/s]",
      "application/vnd.jupyter.widget-view+json": {
       "version_major": 2,
       "version_minor": 0,
       "model_id": "20d1869a56fb4330b4c9b205d79697de"
      }
     },
     "metadata": {},
     "output_type": "display_data"
    },
    {
     "data": {
      "text/plain": "  0%|          | 0/1 [00:00<?, ?it/s]",
      "application/vnd.jupyter.widget-view+json": {
       "version_major": 2,
       "version_minor": 0,
       "model_id": "f2b100efe3ff4d5aa7c3909a7625ec53"
      }
     },
     "metadata": {},
     "output_type": "display_data"
    },
    {
     "name": "stdout",
     "output_type": "stream",
     "text": [
      "Epoch: 15, Loss: 0.5859, Val: 0.4000\n"
     ]
    },
    {
     "data": {
      "text/plain": "  0%|          | 0/2 [00:00<?, ?it/s]",
      "application/vnd.jupyter.widget-view+json": {
       "version_major": 2,
       "version_minor": 0,
       "model_id": "a21258e71bed42de8830d82b20794241"
      }
     },
     "metadata": {},
     "output_type": "display_data"
    },
    {
     "data": {
      "text/plain": "  0%|          | 0/1 [00:00<?, ?it/s]",
      "application/vnd.jupyter.widget-view+json": {
       "version_major": 2,
       "version_minor": 0,
       "model_id": "7f6a74ef1dad45fca72680fe4cc93d12"
      }
     },
     "metadata": {},
     "output_type": "display_data"
    },
    {
     "name": "stdout",
     "output_type": "stream",
     "text": [
      "Epoch: 16, Loss: 0.6137, Val: 0.5000\n"
     ]
    },
    {
     "data": {
      "text/plain": "  0%|          | 0/2 [00:00<?, ?it/s]",
      "application/vnd.jupyter.widget-view+json": {
       "version_major": 2,
       "version_minor": 0,
       "model_id": "00c7ee394d5947be8f339033c806ad8f"
      }
     },
     "metadata": {},
     "output_type": "display_data"
    },
    {
     "data": {
      "text/plain": "  0%|          | 0/1 [00:00<?, ?it/s]",
      "application/vnd.jupyter.widget-view+json": {
       "version_major": 2,
       "version_minor": 0,
       "model_id": "d2b235e437b44f16a0be5e09e4f36009"
      }
     },
     "metadata": {},
     "output_type": "display_data"
    },
    {
     "name": "stdout",
     "output_type": "stream",
     "text": [
      "Epoch: 17, Loss: 0.5727, Val: 0.2500\n"
     ]
    },
    {
     "data": {
      "text/plain": "  0%|          | 0/2 [00:00<?, ?it/s]",
      "application/vnd.jupyter.widget-view+json": {
       "version_major": 2,
       "version_minor": 0,
       "model_id": "f1bdac230a26437580cfac8f57cf4672"
      }
     },
     "metadata": {},
     "output_type": "display_data"
    },
    {
     "data": {
      "text/plain": "  0%|          | 0/1 [00:00<?, ?it/s]",
      "application/vnd.jupyter.widget-view+json": {
       "version_major": 2,
       "version_minor": 0,
       "model_id": "97092a18154a4aa6976aced34662ccbf"
      }
     },
     "metadata": {},
     "output_type": "display_data"
    },
    {
     "name": "stdout",
     "output_type": "stream",
     "text": [
      "Epoch: 18, Loss: 0.6119, Val: 0.2500\n"
     ]
    },
    {
     "data": {
      "text/plain": "  0%|          | 0/2 [00:00<?, ?it/s]",
      "application/vnd.jupyter.widget-view+json": {
       "version_major": 2,
       "version_minor": 0,
       "model_id": "2e9d344a6f304121a122ffe3d73f6733"
      }
     },
     "metadata": {},
     "output_type": "display_data"
    },
    {
     "data": {
      "text/plain": "  0%|          | 0/1 [00:00<?, ?it/s]",
      "application/vnd.jupyter.widget-view+json": {
       "version_major": 2,
       "version_minor": 0,
       "model_id": "00c8bf52e47d42d1ae1f5f22b37f1ef3"
      }
     },
     "metadata": {},
     "output_type": "display_data"
    },
    {
     "name": "stdout",
     "output_type": "stream",
     "text": [
      "Epoch: 19, Loss: 0.5486, Val: 0.6000\n"
     ]
    },
    {
     "data": {
      "text/plain": "  0%|          | 0/2 [00:00<?, ?it/s]",
      "application/vnd.jupyter.widget-view+json": {
       "version_major": 2,
       "version_minor": 0,
       "model_id": "30f016678f074d56b3fc5add2ee5b4ce"
      }
     },
     "metadata": {},
     "output_type": "display_data"
    },
    {
     "data": {
      "text/plain": "  0%|          | 0/1 [00:00<?, ?it/s]",
      "application/vnd.jupyter.widget-view+json": {
       "version_major": 2,
       "version_minor": 0,
       "model_id": "12a39ff4250146cfa9d63970d182e3a0"
      }
     },
     "metadata": {},
     "output_type": "display_data"
    },
    {
     "name": "stdout",
     "output_type": "stream",
     "text": [
      "Epoch: 20, Loss: 0.5446, Val: 0.6000\n"
     ]
    },
    {
     "data": {
      "text/plain": "  0%|          | 0/2 [00:00<?, ?it/s]",
      "application/vnd.jupyter.widget-view+json": {
       "version_major": 2,
       "version_minor": 0,
       "model_id": "afbe1a5045d149b5ae17a8d9ad67f235"
      }
     },
     "metadata": {},
     "output_type": "display_data"
    },
    {
     "data": {
      "text/plain": "  0%|          | 0/1 [00:00<?, ?it/s]",
      "application/vnd.jupyter.widget-view+json": {
       "version_major": 2,
       "version_minor": 0,
       "model_id": "c488ba244dff4554a07f5e4554316c54"
      }
     },
     "metadata": {},
     "output_type": "display_data"
    },
    {
     "name": "stdout",
     "output_type": "stream",
     "text": [
      "Epoch: 21, Loss: 0.5212, Val: 0.4000\n"
     ]
    },
    {
     "data": {
      "text/plain": "  0%|          | 0/2 [00:00<?, ?it/s]",
      "application/vnd.jupyter.widget-view+json": {
       "version_major": 2,
       "version_minor": 0,
       "model_id": "fec0ce285f494395bcc78e9f2dfe986b"
      }
     },
     "metadata": {},
     "output_type": "display_data"
    },
    {
     "data": {
      "text/plain": "  0%|          | 0/1 [00:00<?, ?it/s]",
      "application/vnd.jupyter.widget-view+json": {
       "version_major": 2,
       "version_minor": 0,
       "model_id": "f4ae96bbf867429aadb4169a20aa7729"
      }
     },
     "metadata": {},
     "output_type": "display_data"
    },
    {
     "name": "stdout",
     "output_type": "stream",
     "text": [
      "Epoch: 22, Loss: 0.5219, Val: 0.5000\n"
     ]
    },
    {
     "data": {
      "text/plain": "  0%|          | 0/2 [00:00<?, ?it/s]",
      "application/vnd.jupyter.widget-view+json": {
       "version_major": 2,
       "version_minor": 0,
       "model_id": "2a8aef48475e4d478027272d58733e98"
      }
     },
     "metadata": {},
     "output_type": "display_data"
    },
    {
     "data": {
      "text/plain": "  0%|          | 0/1 [00:00<?, ?it/s]",
      "application/vnd.jupyter.widget-view+json": {
       "version_major": 2,
       "version_minor": 0,
       "model_id": "41f423dae68a47aaa6e591139dae02cf"
      }
     },
     "metadata": {},
     "output_type": "display_data"
    },
    {
     "name": "stdout",
     "output_type": "stream",
     "text": [
      "Epoch: 23, Loss: 0.5012, Val: 0.3500\n"
     ]
    },
    {
     "data": {
      "text/plain": "  0%|          | 0/2 [00:00<?, ?it/s]",
      "application/vnd.jupyter.widget-view+json": {
       "version_major": 2,
       "version_minor": 0,
       "model_id": "1b9b37ee85c14f93b0ccb27ed56ea604"
      }
     },
     "metadata": {},
     "output_type": "display_data"
    },
    {
     "data": {
      "text/plain": "  0%|          | 0/1 [00:00<?, ?it/s]",
      "application/vnd.jupyter.widget-view+json": {
       "version_major": 2,
       "version_minor": 0,
       "model_id": "7e838eab674941799e7b41582e2ab9f6"
      }
     },
     "metadata": {},
     "output_type": "display_data"
    },
    {
     "name": "stdout",
     "output_type": "stream",
     "text": [
      "Epoch: 24, Loss: 0.4517, Val: 0.4000\n"
     ]
    },
    {
     "data": {
      "text/plain": "  0%|          | 0/2 [00:00<?, ?it/s]",
      "application/vnd.jupyter.widget-view+json": {
       "version_major": 2,
       "version_minor": 0,
       "model_id": "ae8fb7106b0e4c13bd88d1082745201e"
      }
     },
     "metadata": {},
     "output_type": "display_data"
    },
    {
     "data": {
      "text/plain": "  0%|          | 0/1 [00:00<?, ?it/s]",
      "application/vnd.jupyter.widget-view+json": {
       "version_major": 2,
       "version_minor": 0,
       "model_id": "e2c0bf6b62f642dabf510ce21fdaeb55"
      }
     },
     "metadata": {},
     "output_type": "display_data"
    },
    {
     "name": "stdout",
     "output_type": "stream",
     "text": [
      "Epoch: 25, Loss: 0.4711, Val: 0.3000\n"
     ]
    },
    {
     "data": {
      "text/plain": "  0%|          | 0/2 [00:00<?, ?it/s]",
      "application/vnd.jupyter.widget-view+json": {
       "version_major": 2,
       "version_minor": 0,
       "model_id": "ebd31f220c6e4658a9eb3899e688bf43"
      }
     },
     "metadata": {},
     "output_type": "display_data"
    },
    {
     "data": {
      "text/plain": "  0%|          | 0/1 [00:00<?, ?it/s]",
      "application/vnd.jupyter.widget-view+json": {
       "version_major": 2,
       "version_minor": 0,
       "model_id": "fd1d78b4e9034b77880783e4bd05adcc"
      }
     },
     "metadata": {},
     "output_type": "display_data"
    },
    {
     "name": "stdout",
     "output_type": "stream",
     "text": [
      "Epoch: 26, Loss: 0.4301, Val: 0.4000\n"
     ]
    },
    {
     "data": {
      "text/plain": "  0%|          | 0/2 [00:00<?, ?it/s]",
      "application/vnd.jupyter.widget-view+json": {
       "version_major": 2,
       "version_minor": 0,
       "model_id": "f3d780ad0dc942d08fb466695aa394cc"
      }
     },
     "metadata": {},
     "output_type": "display_data"
    },
    {
     "data": {
      "text/plain": "  0%|          | 0/1 [00:00<?, ?it/s]",
      "application/vnd.jupyter.widget-view+json": {
       "version_major": 2,
       "version_minor": 0,
       "model_id": "0bcbe4e049e6411dbd71ccad83af30ef"
      }
     },
     "metadata": {},
     "output_type": "display_data"
    },
    {
     "name": "stdout",
     "output_type": "stream",
     "text": [
      "Epoch: 27, Loss: 0.4283, Val: 0.5000\n"
     ]
    },
    {
     "data": {
      "text/plain": "  0%|          | 0/2 [00:00<?, ?it/s]",
      "application/vnd.jupyter.widget-view+json": {
       "version_major": 2,
       "version_minor": 0,
       "model_id": "2029cc06eafc41b6ab80b07a4959a259"
      }
     },
     "metadata": {},
     "output_type": "display_data"
    },
    {
     "data": {
      "text/plain": "  0%|          | 0/1 [00:00<?, ?it/s]",
      "application/vnd.jupyter.widget-view+json": {
       "version_major": 2,
       "version_minor": 0,
       "model_id": "50a8010f1aba4cb3a1bc21bc553c0aed"
      }
     },
     "metadata": {},
     "output_type": "display_data"
    },
    {
     "name": "stdout",
     "output_type": "stream",
     "text": [
      "Epoch: 28, Loss: 0.4368, Val: 0.4500\n"
     ]
    },
    {
     "data": {
      "text/plain": "  0%|          | 0/2 [00:00<?, ?it/s]",
      "application/vnd.jupyter.widget-view+json": {
       "version_major": 2,
       "version_minor": 0,
       "model_id": "988f9c94d31144d1ac5340c8aa37e47a"
      }
     },
     "metadata": {},
     "output_type": "display_data"
    },
    {
     "data": {
      "text/plain": "  0%|          | 0/1 [00:00<?, ?it/s]",
      "application/vnd.jupyter.widget-view+json": {
       "version_major": 2,
       "version_minor": 0,
       "model_id": "c94a72d517474c26ae1d82041eaa4f7b"
      }
     },
     "metadata": {},
     "output_type": "display_data"
    },
    {
     "name": "stdout",
     "output_type": "stream",
     "text": [
      "Epoch: 29, Loss: 0.3984, Val: 0.4500\n"
     ]
    },
    {
     "data": {
      "text/plain": "  0%|          | 0/2 [00:00<?, ?it/s]",
      "application/vnd.jupyter.widget-view+json": {
       "version_major": 2,
       "version_minor": 0,
       "model_id": "18804c90e6c84f30a1fc525609145c80"
      }
     },
     "metadata": {},
     "output_type": "display_data"
    },
    {
     "data": {
      "text/plain": "  0%|          | 0/1 [00:00<?, ?it/s]",
      "application/vnd.jupyter.widget-view+json": {
       "version_major": 2,
       "version_minor": 0,
       "model_id": "4db046f1cfec4c8aab0a6a5179a7e1ed"
      }
     },
     "metadata": {},
     "output_type": "display_data"
    },
    {
     "name": "stdout",
     "output_type": "stream",
     "text": [
      "Epoch: 30, Loss: 0.4131, Val: 0.4500\n"
     ]
    },
    {
     "data": {
      "text/plain": "  0%|          | 0/2 [00:00<?, ?it/s]",
      "application/vnd.jupyter.widget-view+json": {
       "version_major": 2,
       "version_minor": 0,
       "model_id": "6c132f81409941a6be73fb22b85bb2e3"
      }
     },
     "metadata": {},
     "output_type": "display_data"
    },
    {
     "data": {
      "text/plain": "  0%|          | 0/1 [00:00<?, ?it/s]",
      "application/vnd.jupyter.widget-view+json": {
       "version_major": 2,
       "version_minor": 0,
       "model_id": "194f5c496b49472cb9afe629ad808df5"
      }
     },
     "metadata": {},
     "output_type": "display_data"
    },
    {
     "name": "stdout",
     "output_type": "stream",
     "text": [
      "Epoch: 31, Loss: 0.4077, Val: 0.4500\n"
     ]
    },
    {
     "data": {
      "text/plain": "  0%|          | 0/2 [00:00<?, ?it/s]",
      "application/vnd.jupyter.widget-view+json": {
       "version_major": 2,
       "version_minor": 0,
       "model_id": "68b6a445f8584f87938cc790e590b72f"
      }
     },
     "metadata": {},
     "output_type": "display_data"
    },
    {
     "data": {
      "text/plain": "  0%|          | 0/1 [00:00<?, ?it/s]",
      "application/vnd.jupyter.widget-view+json": {
       "version_major": 2,
       "version_minor": 0,
       "model_id": "6a39bb864bd74ae98057f62c38cca1c6"
      }
     },
     "metadata": {},
     "output_type": "display_data"
    },
    {
     "name": "stdout",
     "output_type": "stream",
     "text": [
      "Epoch: 32, Loss: 0.3925, Val: 0.4500\n"
     ]
    },
    {
     "data": {
      "text/plain": "  0%|          | 0/2 [00:00<?, ?it/s]",
      "application/vnd.jupyter.widget-view+json": {
       "version_major": 2,
       "version_minor": 0,
       "model_id": "bf0cd91a65b243319e63af342e6a3d66"
      }
     },
     "metadata": {},
     "output_type": "display_data"
    },
    {
     "data": {
      "text/plain": "  0%|          | 0/1 [00:00<?, ?it/s]",
      "application/vnd.jupyter.widget-view+json": {
       "version_major": 2,
       "version_minor": 0,
       "model_id": "d0d6d56da1d64fad8c64d83a24ea3bfd"
      }
     },
     "metadata": {},
     "output_type": "display_data"
    },
    {
     "name": "stdout",
     "output_type": "stream",
     "text": [
      "Epoch: 33, Loss: 0.4003, Val: 0.4000\n"
     ]
    },
    {
     "data": {
      "text/plain": "  0%|          | 0/2 [00:00<?, ?it/s]",
      "application/vnd.jupyter.widget-view+json": {
       "version_major": 2,
       "version_minor": 0,
       "model_id": "1f97342dbcf24352aac22c0db0ef1bec"
      }
     },
     "metadata": {},
     "output_type": "display_data"
    },
    {
     "data": {
      "text/plain": "  0%|          | 0/1 [00:00<?, ?it/s]",
      "application/vnd.jupyter.widget-view+json": {
       "version_major": 2,
       "version_minor": 0,
       "model_id": "d9bfc36cfbf240b796e3f9c2eddf9590"
      }
     },
     "metadata": {},
     "output_type": "display_data"
    },
    {
     "name": "stdout",
     "output_type": "stream",
     "text": [
      "Epoch: 34, Loss: 0.3879, Val: 0.4000\n"
     ]
    },
    {
     "data": {
      "text/plain": "  0%|          | 0/2 [00:00<?, ?it/s]",
      "application/vnd.jupyter.widget-view+json": {
       "version_major": 2,
       "version_minor": 0,
       "model_id": "32bec1d7f65f44e8bfd61cd98d922586"
      }
     },
     "metadata": {},
     "output_type": "display_data"
    },
    {
     "data": {
      "text/plain": "  0%|          | 0/1 [00:00<?, ?it/s]",
      "application/vnd.jupyter.widget-view+json": {
       "version_major": 2,
       "version_minor": 0,
       "model_id": "50f97b31100749c29a3828c35028ab90"
      }
     },
     "metadata": {},
     "output_type": "display_data"
    },
    {
     "name": "stdout",
     "output_type": "stream",
     "text": [
      "Epoch: 35, Loss: 0.3854, Val: 0.4000\n"
     ]
    },
    {
     "data": {
      "text/plain": "  0%|          | 0/2 [00:00<?, ?it/s]",
      "application/vnd.jupyter.widget-view+json": {
       "version_major": 2,
       "version_minor": 0,
       "model_id": "09e6cfef7e43407e9b7def2885dd2fe2"
      }
     },
     "metadata": {},
     "output_type": "display_data"
    },
    {
     "data": {
      "text/plain": "  0%|          | 0/1 [00:00<?, ?it/s]",
      "application/vnd.jupyter.widget-view+json": {
       "version_major": 2,
       "version_minor": 0,
       "model_id": "c3674a7553274a87b043b85aaf620fad"
      }
     },
     "metadata": {},
     "output_type": "display_data"
    },
    {
     "name": "stdout",
     "output_type": "stream",
     "text": [
      "Epoch: 36, Loss: 0.3814, Val: 0.4000\n"
     ]
    },
    {
     "data": {
      "text/plain": "  0%|          | 0/2 [00:00<?, ?it/s]",
      "application/vnd.jupyter.widget-view+json": {
       "version_major": 2,
       "version_minor": 0,
       "model_id": "21f10623c80f4616996e188a75dc4534"
      }
     },
     "metadata": {},
     "output_type": "display_data"
    },
    {
     "data": {
      "text/plain": "  0%|          | 0/1 [00:00<?, ?it/s]",
      "application/vnd.jupyter.widget-view+json": {
       "version_major": 2,
       "version_minor": 0,
       "model_id": "0f1a4790627a4eda8e07d46a50227381"
      }
     },
     "metadata": {},
     "output_type": "display_data"
    },
    {
     "name": "stdout",
     "output_type": "stream",
     "text": [
      "Epoch: 37, Loss: 0.3654, Val: 0.4500\n"
     ]
    },
    {
     "data": {
      "text/plain": "  0%|          | 0/2 [00:00<?, ?it/s]",
      "application/vnd.jupyter.widget-view+json": {
       "version_major": 2,
       "version_minor": 0,
       "model_id": "ebf26d920057459e8262b307caedd0db"
      }
     },
     "metadata": {},
     "output_type": "display_data"
    },
    {
     "data": {
      "text/plain": "  0%|          | 0/1 [00:00<?, ?it/s]",
      "application/vnd.jupyter.widget-view+json": {
       "version_major": 2,
       "version_minor": 0,
       "model_id": "b2c37b16f04944a39e941a4416149787"
      }
     },
     "metadata": {},
     "output_type": "display_data"
    },
    {
     "name": "stdout",
     "output_type": "stream",
     "text": [
      "Epoch: 38, Loss: 0.3595, Val: 0.4500\n"
     ]
    },
    {
     "data": {
      "text/plain": "  0%|          | 0/2 [00:00<?, ?it/s]",
      "application/vnd.jupyter.widget-view+json": {
       "version_major": 2,
       "version_minor": 0,
       "model_id": "6b44485bd25648e993bd40bf1e254759"
      }
     },
     "metadata": {},
     "output_type": "display_data"
    },
    {
     "data": {
      "text/plain": "  0%|          | 0/1 [00:00<?, ?it/s]",
      "application/vnd.jupyter.widget-view+json": {
       "version_major": 2,
       "version_minor": 0,
       "model_id": "d846e29784544783aae45b924ef4ee00"
      }
     },
     "metadata": {},
     "output_type": "display_data"
    },
    {
     "name": "stdout",
     "output_type": "stream",
     "text": [
      "Epoch: 39, Loss: 0.3512, Val: 0.5000\n"
     ]
    },
    {
     "data": {
      "text/plain": "  0%|          | 0/2 [00:00<?, ?it/s]",
      "application/vnd.jupyter.widget-view+json": {
       "version_major": 2,
       "version_minor": 0,
       "model_id": "9237847474954b8ebd31ee02f58253af"
      }
     },
     "metadata": {},
     "output_type": "display_data"
    },
    {
     "data": {
      "text/plain": "  0%|          | 0/1 [00:00<?, ?it/s]",
      "application/vnd.jupyter.widget-view+json": {
       "version_major": 2,
       "version_minor": 0,
       "model_id": "775cc6af97e041f4899f9d4dcdf4cb06"
      }
     },
     "metadata": {},
     "output_type": "display_data"
    },
    {
     "name": "stdout",
     "output_type": "stream",
     "text": [
      "Epoch: 40, Loss: 0.3508, Val: 0.5000\n"
     ]
    }
   ],
   "source": [
    "from tqdm.notebook import tqdm\n",
    "\n",
    "model = HGTDetector(n_cat_prop=4, n_num_prop=5, des_size=768, tweet_size=768, embedding_dimension=128).to(device)\n",
    "optimizer = torch.optim.Adam(model.parameters(), lr=0.001)\n",
    "\n",
    "@torch.no_grad()\n",
    "def init_params():\n",
    "    batch = next(iter(nei_train_loader))\n",
    "    batch = batch.to(device, \"edge_index\")\n",
    "    model(batch.x_dict, batch.edge_index_dict)\n",
    "\n",
    "def train():\n",
    "    model.train()\n",
    "\n",
    "    total_examples = total_loss = 0\n",
    "    for batch in tqdm(nei_train_loader):\n",
    "        optimizer.zero_grad()\n",
    "        batch = batch.to(device, 'edge_index')\n",
    "        batch_size = batch['user'].batch_size\n",
    "        mask = batch['user'].train_mask\n",
    "        out = model(batch.x_dict, batch.edge_index_dict)[mask]\n",
    "        # print(f\"out: {out}\")\n",
    "        # print(f\"out.argmax(-1): {out.argmax(dim=-1)}\")\n",
    "        # print(f\"batch['user'].y[mask]: {batch['user'].y[mask]}\")\n",
    "        loss = nn.functional.cross_entropy(out, batch['user'].y[mask].long())\n",
    "        loss.backward()\n",
    "        optimizer.step()\n",
    "\n",
    "        total_examples += mask.sum()\n",
    "        total_loss += float(loss) * mask.sum()\n",
    "\n",
    "    return total_loss / total_examples\n",
    "\n",
    "@torch.no_grad()\n",
    "def val(loader):\n",
    "    model.eval()\n",
    "\n",
    "    total_examples = total_correct = 0\n",
    "    for batch in tqdm(loader):\n",
    "        batch = batch.to(device, 'edge_index')\n",
    "        batch_size = batch['user'].batch_size\n",
    "        mask = batch['user'].val_mask\n",
    "        out = model(batch.x_dict, batch.edge_index_dict)\n",
    "        pred = out.argmax(dim=-1)[mask]\n",
    "        # print(f\"batch_size: {batch_size}\")\n",
    "        # print(f\"mask: {mask}\")\n",
    "        # print(f\"pred: {pred}\")\n",
    "        # print(f\"batch['user'].y: {batch['user'].y}\")\n",
    "        # print(f\"pred[mask]: {pred[mask]}\")\n",
    "        # print(f\"batch['user'].y[mask]: {batch['user'].y[mask]}\")\n",
    "        total_examples += mask.sum()\n",
    "        total_correct += int((pred == batch['user'].y[mask]).sum())\n",
    "\n",
    "    return total_correct / total_examples\n",
    "\n",
    "init_params()\n",
    "\n",
    "for epoch in range(1, 41):\n",
    "    loss = train()\n",
    "    val_acc = val(nei_val_loader)\n",
    "    print(f'Epoch: {epoch:02d}, Loss: {loss:.4f}, Val: {val_acc:.4f}')"
   ],
   "metadata": {
    "collapsed": false
   }
  },
  {
   "cell_type": "code",
   "execution_count": 13,
   "outputs": [],
   "source": [
    "test_data = hetero_twi.subgraph({'user': hetero_twi['user'].test_mask, 'tweet': torch.ones(hetero_twi['tweet'].num_nodes).bool()})"
   ],
   "metadata": {
    "collapsed": false
   }
  },
  {
   "cell_type": "code",
   "execution_count": 15,
   "outputs": [
    {
     "name": "stdout",
     "output_type": "stream",
     "text": [
      "Test: 0.4500\n"
     ]
    }
   ],
   "source": [
    "out = model(test_data.x_dict, test_data.edge_index_dict).argmax(dim=-1)\n",
    "mask = test_data['user'].test_mask\n",
    "test_res = (out[mask] == test_data['user'].y[mask]).sum()\n",
    "print(f\"Test: {test_res / mask.sum():.4f}\")"
   ],
   "metadata": {
    "collapsed": false
   }
  },
  {
   "cell_type": "code",
   "execution_count": 51,
   "outputs": [],
   "source": [
    "torch.save(model, rf'./saved_models/acc{test_res / len(out):.4f}.pickle')\n"
   ],
   "metadata": {
    "collapsed": false
   }
  },
  {
   "cell_type": "code",
   "execution_count": 13,
   "outputs": [
    {
     "name": "stdout",
     "output_type": "stream",
     "text": [
      "Test: 0.5000\n"
     ]
    }
   ],
   "source": [
    "loaded_model = torch.load(rf'./saved_models/acc0.5500.pickle')\n",
    "out1 = loaded_model(test_data.x_dict, test_data.edge_index_dict).argmax(dim=-1)\n",
    "test_res1 = (out1 == test_data['user'].y).sum()\n",
    "print(f\"Test: {test_res1 / len(out1):.4f}\")"
   ],
   "metadata": {
    "collapsed": false
   }
  },
  {
   "cell_type": "code",
   "execution_count": 16,
   "outputs": [
    {
     "data": {
      "text/plain": "tensor(20)"
     },
     "execution_count": 16,
     "metadata": {},
     "output_type": "execute_result"
    }
   ],
   "source": [
    "# print(loaded_model)\n",
    "test_idx.sum()"
   ],
   "metadata": {
    "collapsed": false
   }
  },
  {
   "cell_type": "code",
   "execution_count": 14,
   "outputs": [
    {
     "ename": "AssertionError",
     "evalue": "",
     "output_type": "error",
     "traceback": [
      "\u001B[1;31m---------------------------------------------------------------------------\u001B[0m",
      "\u001B[1;31mAssertionError\u001B[0m                            Traceback (most recent call last)",
      "Input \u001B[1;32mIn [14]\u001B[0m, in \u001B[0;36m<cell line: 3>\u001B[1;34m()\u001B[0m\n\u001B[0;32m      1\u001B[0m \u001B[38;5;28;01mfrom\u001B[39;00m \u001B[38;5;21;01mtorchviz\u001B[39;00m \u001B[38;5;28;01mimport\u001B[39;00m make_dot\n\u001B[1;32m----> 3\u001B[0m netvis \u001B[38;5;241m=\u001B[39m \u001B[43mmake_dot\u001B[49m\u001B[43m(\u001B[49m\u001B[43mout1\u001B[49m\u001B[43m,\u001B[49m\u001B[43m \u001B[49m\u001B[43mparams\u001B[49m\u001B[38;5;241;43m=\u001B[39;49m\u001B[38;5;28;43mdict\u001B[39;49m\u001B[43m(\u001B[49m\u001B[38;5;28;43mlist\u001B[39;49m\u001B[43m(\u001B[49m\u001B[43mloaded_model\u001B[49m\u001B[38;5;241;43m.\u001B[39;49m\u001B[43mnamed_parameters\u001B[49m\u001B[43m(\u001B[49m\u001B[43m)\u001B[49m\u001B[43m)\u001B[49m\u001B[43m \u001B[49m\u001B[38;5;241;43m+\u001B[39;49m\u001B[43m \u001B[49m\u001B[43m[\u001B[49m\u001B[43m(\u001B[49m\u001B[38;5;124;43m'\u001B[39;49m\u001B[38;5;124;43mx\u001B[39;49m\u001B[38;5;124;43m'\u001B[39;49m\u001B[43m,\u001B[49m\u001B[43m \u001B[49m\u001B[43mtest_data\u001B[49m\u001B[38;5;241;43m.\u001B[39;49m\u001B[43mx_dict\u001B[49m\u001B[43m)\u001B[49m\u001B[43m]\u001B[49m\u001B[43m)\u001B[49m\u001B[43m)\u001B[49m\n\u001B[0;32m      4\u001B[0m netvis\u001B[38;5;241m.\u001B[39mformat \u001B[38;5;241m=\u001B[39m \u001B[38;5;124m'\u001B[39m\u001B[38;5;124mpng\u001B[39m\u001B[38;5;124m'\u001B[39m\n\u001B[0;32m      5\u001B[0m netvis\u001B[38;5;241m.\u001B[39mdirectory \u001B[38;5;241m=\u001B[39m \u001B[38;5;124m\"\u001B[39m\u001B[38;5;124msaved_models\u001B[39m\u001B[38;5;124m\"\u001B[39m\n",
      "File \u001B[1;32m~\\anaconda3\\envs\\TwiBot-22\\lib\\site-packages\\torchviz\\dot.py:73\u001B[0m, in \u001B[0;36mmake_dot\u001B[1;34m(var, params, show_attrs, show_saved, max_attr_chars)\u001B[0m\n\u001B[0;32m     67\u001B[0m     warnings\u001B[38;5;241m.\u001B[39mwarn(\n\u001B[0;32m     68\u001B[0m         \u001B[38;5;124m\"\u001B[39m\u001B[38;5;124mmake_dot: showing grad_fn attributes and saved variables\u001B[39m\u001B[38;5;124m\"\u001B[39m\n\u001B[0;32m     69\u001B[0m         \u001B[38;5;124m\"\u001B[39m\u001B[38;5;124m requires PyTorch version >= 1.9. (This does NOT apply to\u001B[39m\u001B[38;5;124m\"\u001B[39m\n\u001B[0;32m     70\u001B[0m         \u001B[38;5;124m\"\u001B[39m\u001B[38;5;124m saved tensors saved by custom autograd functions.)\u001B[39m\u001B[38;5;124m\"\u001B[39m)\n\u001B[0;32m     72\u001B[0m \u001B[38;5;28;01mif\u001B[39;00m params \u001B[38;5;129;01mis\u001B[39;00m \u001B[38;5;129;01mnot\u001B[39;00m \u001B[38;5;28;01mNone\u001B[39;00m:\n\u001B[1;32m---> 73\u001B[0m     \u001B[38;5;28;01massert\u001B[39;00m \u001B[38;5;28mall\u001B[39m(\u001B[38;5;28misinstance\u001B[39m(p, Variable) \u001B[38;5;28;01mfor\u001B[39;00m p \u001B[38;5;129;01min\u001B[39;00m params\u001B[38;5;241m.\u001B[39mvalues())\n\u001B[0;32m     74\u001B[0m     param_map \u001B[38;5;241m=\u001B[39m {\u001B[38;5;28mid\u001B[39m(v): k \u001B[38;5;28;01mfor\u001B[39;00m k, v \u001B[38;5;129;01min\u001B[39;00m params\u001B[38;5;241m.\u001B[39mitems()}\n\u001B[0;32m     75\u001B[0m \u001B[38;5;28;01melse\u001B[39;00m:\n",
      "\u001B[1;31mAssertionError\u001B[0m: "
     ]
    }
   ],
   "source": [
    "from torchviz import make_dot\n",
    "\n",
    "netvis = make_dot(out1, params=dict(list(loaded_model.named_parameters()) + [('x', test_data.x_dict)]))\n",
    "netvis.format = 'png'\n",
    "netvis.directory = \"saved_models\"\n",
    "netvis.view()"
   ],
   "metadata": {
    "collapsed": false
   }
  }
 ],
 "metadata": {
  "kernelspec": {
   "display_name": "Python 3",
   "language": "python",
   "name": "python3"
  },
  "language_info": {
   "codemirror_mode": {
    "name": "ipython",
    "version": 2
   },
   "file_extension": ".py",
   "mimetype": "text/x-python",
   "name": "python",
   "nbconvert_exporter": "python",
   "pygments_lexer": "ipython2",
   "version": "2.7.6"
  }
 },
 "nbformat": 4,
 "nbformat_minor": 0
}
